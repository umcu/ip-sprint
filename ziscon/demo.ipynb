{
 "cells": [
  {
   "cell_type": "code",
   "execution_count": 8,
   "id": "d2cdf87c",
   "metadata": {},
   "outputs": [],
   "source": [
    "from cdag import Graph, load_data, read_table\n",
    "import pandas as pd"
   ]
  },
  {
   "cell_type": "code",
   "execution_count": 9,
   "id": "d84cd3d2",
   "metadata": {},
   "outputs": [],
   "source": [
    "graph = Graph()\n",
    "load_data(graph)"
   ]
  },
  {
   "cell_type": "code",
   "execution_count": 10,
   "id": "1bbacc6d-58db-4d1c-a488-682fed3b7cb0",
   "metadata": {},
   "outputs": [
    {
     "name": "stdout",
     "output_type": "stream",
     "text": [
      "TKAPPEN Kappen, T.H. (Teus)\n",
      "\tgroup: ZH0085 SPEANEU Anesthesioloog (UMC)\n",
      "\tgroup: ZH0125 SPEPYNU Pijnarts (UMC)\n",
      "\trole: ZH001073 OK PDMS Medewerker (UMC)\n",
      "\t\tZH0554 OKPDMSU OK PDMS Medewerker (UMC)\n",
      "\trole: ZH001407 Inloggen Testaccounts UMC Utrecht - HiX Opleiding\n",
      "\t\tZH0003 &TESTU Aanvullend - Mag inloggen met testgebruikers UMC Utrecht\n"
     ]
    }
   ],
   "source": [
    "user = graph.find_one_node('User', naam='TKAPPEN')\n",
    "groups = graph.groups_for_user(user)\n",
    "for group in groups:\n",
    "    print(f\"\\tgroup: {group}\")\n",
    "for role in graph.roles_for_user(user):\n",
    "    print(f\"\\trole: {role}\")\n",
    "    for nb in graph.adjacent(role, 'ismember'):\n",
    "        print(f\"\\t\\t{nb}\")"
   ]
  },
  {
   "cell_type": "code",
   "execution_count": 11,
   "id": "c4f16e16",
   "metadata": {},
   "outputs": [],
   "source": [
    "#role = graph.find_one_node('Role', naam='ZH001073')\n",
    "#for rg in graph.effective_groups_for_user(role):\n",
    "#print(f\"{rg._distance}: {rg}\")"
   ]
  },
  {
   "cell_type": "code",
   "execution_count": 13,
   "id": "9f004aac",
   "metadata": {},
   "outputs": [
    {
     "name": "stdout",
     "output_type": "stream",
     "text": [
      "ZH0554 OKPDMSU OK PDMS Medewerker (UMC)\n",
      "AG_US_MAAK AGENDA_AGENDA ZH0116\n",
      "DOSS_ISETTINGS DOSSIER_WERKSETTING CS00000383\n",
      "DOSS_WSETTINGS DOSSIER_WERKSETTING CS00000388\n"
     ]
    }
   ],
   "source": [
    "group1 = graph.find_one_node('Group', code='ZH0554')\n",
    "for right in graph.adjacent(group1, 'hasright'):\n",
    "    if right.settingid.startswith('_'): continue\n",
    "    print(right)"
   ]
  }
 ],
 "metadata": {
  "kernelspec": {
   "display_name": "Python 3",
   "language": "python",
   "name": "python3"
  },
  "language_info": {
   "codemirror_mode": {
    "name": "ipython",
    "version": 3
   },
   "file_extension": ".py",
   "mimetype": "text/x-python",
   "name": "python",
   "nbconvert_exporter": "python",
   "pygments_lexer": "ipython3",
   "version": "3.10.12"
  },
  "varInspector": {
   "cols": {
    "lenName": 16,
    "lenType": 16,
    "lenVar": 40
   },
   "kernels_config": {
    "python": {
     "delete_cmd_postfix": "",
     "delete_cmd_prefix": "del ",
     "library": "var_list.py",
     "varRefreshCmd": "print(var_dic_list())"
    },
    "r": {
     "delete_cmd_postfix": ") ",
     "delete_cmd_prefix": "rm(",
     "library": "var_list.r",
     "varRefreshCmd": "cat(var_dic_list()) "
    }
   },
   "types_to_exclude": [
    "module",
    "function",
    "builtin_function_or_method",
    "instance",
    "_Feature"
   ],
   "window_display": false
  }
 },
 "nbformat": 4,
 "nbformat_minor": 5
}
