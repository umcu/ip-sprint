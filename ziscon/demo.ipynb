{
 "cells": [
  {
   "cell_type": "code",
   "execution_count": 2,
   "id": "d2cdf87c",
   "metadata": {},
   "outputs": [],
   "source": [
    "from cdag import Graph, load_data, read_table\n",
    "import pandas as pd"
   ]
  },
  {
   "cell_type": "code",
   "execution_count": 3,
   "id": "d84cd3d2",
   "metadata": {},
   "outputs": [],
   "source": [
    "graph = Graph()\n",
    "load_data(graph)"
   ]
  },
  {
   "cell_type": "code",
   "execution_count": 4,
   "id": "1bbacc6d-58db-4d1c-a488-682fed3b7cb0",
   "metadata": {},
   "outputs": [],
   "source": [
    "user = graph.find_one_node('User', naam='LVOS13')"
   ]
  },
  {
   "cell_type": "code",
   "execution_count": 5,
   "id": "79928d0f-9580-431d-814c-5a826b46f97d",
   "metadata": {},
   "outputs": [],
   "source": [
    "group = graph.find_one_node('Group', searchcode='SPEANEU')"
   ]
  },
  {
   "cell_type": "code",
   "execution_count": 4,
   "id": "f7ccc943",
   "metadata": {},
   "outputs": [],
   "source": [
    "groups = graph.groups_for_user(user)\n",
    "for group in groups:\n",
    "    print(f\"\\tgroup: {group}\")"
   ]
  },
  {
   "cell_type": "code",
   "execution_count": null,
   "id": "6f703feb",
   "metadata": {},
   "outputs": [],
   "source": [
    "#for role in graph.roles_for_user(user):\n",
    "#    print(f\"\\trole: {role}\")\n",
    "#    for nb in graph.adjacent(role, 'ismember'):\n",
    "#        print(f\"\\t\\t{nb}\")"
   ]
  },
  {
   "cell_type": "code",
   "execution_count": 5,
   "id": "c4f16e16",
   "metadata": {},
   "outputs": [],
   "source": [
    "role = graph.find_one_node('Role', naam='ZH001073')\n",
    "for rg in graph.effective_groups_for_user(user):\n",
    "    print(f\"{rg._distance}: {rg}\")"
   ]
  },
  {
   "cell_type": "code",
   "execution_count": 6,
   "id": "193e1e7d",
   "metadata": {},
   "outputs": [],
   "source": [
    "group1 = graph.find_one_node('Group', code='ZH0554')\n",
    "for right in graph.adjacent(group1, 'hasright'):\n",
    "    print(right)"
   ]
  }
 ],
 "metadata": {
  "kernelspec": {
   "display_name": "Python 3 (ipykernel)",
   "language": "python",
   "name": "python3"
  },
  "language_info": {
   "codemirror_mode": {
    "name": "ipython",
    "version": 3
   },
   "file_extension": ".py",
   "mimetype": "text/x-python",
   "name": "python",
   "nbconvert_exporter": "python",
   "pygments_lexer": "ipython3",
   "version": "3.10.9"
  },
  "varInspector": {
   "cols": {
    "lenName": 16,
    "lenType": 16,
    "lenVar": 40
   },
   "kernels_config": {
    "python": {
     "delete_cmd_postfix": "",
     "delete_cmd_prefix": "del ",
     "library": "var_list.py",
     "varRefreshCmd": "print(var_dic_list())"
    },
    "r": {
     "delete_cmd_postfix": ") ",
     "delete_cmd_prefix": "rm(",
     "library": "var_list.r",
     "varRefreshCmd": "cat(var_dic_list()) "
    }
   },
   "types_to_exclude": [
    "module",
    "function",
    "builtin_function_or_method",
    "instance",
    "_Feature"
   ],
   "window_display": false
  }
 },
 "nbformat": 4,
 "nbformat_minor": 5
}