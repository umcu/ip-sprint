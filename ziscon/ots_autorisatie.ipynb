{
 "cells": [
  {
   "cell_type": "code",
   "execution_count": 2,
   "id": "d2cdf87c",
   "metadata": {},
   "outputs": [],
   "source": [
    "from cdag import Graph, load_data, read_table\n",
    "import pandas as pd"
   ]
  },
  {
   "cell_type": "code",
   "execution_count": 3,
   "id": "d84cd3d2",
   "metadata": {},
   "outputs": [],
   "source": [
    "graph = Graph()\n",
    "load_data(graph)"
   ]
  },
  {
   "cell_type": "code",
   "execution_count": 4,
   "id": "1bbacc6d-58db-4d1c-a488-682fed3b7cb0",
   "metadata": {},
   "outputs": [
    {
     "name": "stdout",
     "output_type": "stream",
     "text": [
      "TKAPPEN Kappen, T.H. (Teus)\n",
      "\tgroup: ZH0085 SPEANEU Anesthesioloog (UMC)\n",
      "\tgroup: ZH0125 SPEPYNU Pijnarts (UMC)\n"
     ]
    }
   ],
   "source": [
    "user = graph.find_one_node('User', naam='TKAPPEN')\n",
    "for group in graph.groups_for_user(user):\n",
    "    print(f\"\\tgroup: {group}\")\n",
    "#for role in graph.roles_for_user(user):\n",
    "#    print(f\"\\trole: {role}\")\n",
    "#    for nb in graph.adjacent(role, 'ismember'):\n",
    "#        print(f\"\\t\\t{nb}\")"
   ]
  },
  {
   "cell_type": "code",
   "execution_count": 5,
   "id": "c4f16e16",
   "metadata": {},
   "outputs": [],
   "source": [
    "#role = graph.find_one_node('Role', naam='ZH001073')\n",
    "#for rg in graph.effective_groups_for_user(role):\n",
    "#print(f\"{rg._distance}: {rg}\")"
   ]
  },
  {
   "cell_type": "code",
   "execution_count": 6,
   "id": "8498d87d",
   "metadata": {},
   "outputs": [],
   "source": [
    "wc = pd.read_csv('config_workcontext.csv')\n",
    "wc.set_index('Id', inplace=True)\n",
    "ws = pd.read_csv('config_wcsegments.csv')\n",
    "ws.set_index('ConfiguredWorkContextId', inplace=True)"
   ]
  },
  {
   "cell_type": "code",
   "execution_count": 7,
   "id": "45eab1c2",
   "metadata": {},
   "outputs": [
    {
     "data": {
      "text/html": [
       "<div>\n",
       "<style scoped>\n",
       "    .dataframe tbody tr th:only-of-type {\n",
       "        vertical-align: middle;\n",
       "    }\n",
       "\n",
       "    .dataframe tbody tr th {\n",
       "        vertical-align: top;\n",
       "    }\n",
       "\n",
       "    .dataframe thead th {\n",
       "        text-align: right;\n",
       "    }\n",
       "</style>\n",
       "<table border=\"1\" class=\"dataframe\">\n",
       "  <thead>\n",
       "    <tr style=\"text-align: right;\">\n",
       "      <th></th>\n",
       "      <th>SegmentId</th>\n",
       "      <th>Disabled</th>\n",
       "    </tr>\n",
       "    <tr>\n",
       "      <th>ConfiguredWorkContextId</th>\n",
       "      <th></th>\n",
       "      <th></th>\n",
       "    </tr>\n",
       "  </thead>\n",
       "  <tbody>\n",
       "    <tr>\n",
       "      <th>CS00000005</th>\n",
       "      <td>DT00000001</td>\n",
       "      <td>False</td>\n",
       "    </tr>\n",
       "    <tr>\n",
       "      <th>CS00000002</th>\n",
       "      <td>CS000366</td>\n",
       "      <td>False</td>\n",
       "    </tr>\n",
       "    <tr>\n",
       "      <th>CS00000003</th>\n",
       "      <td>CS00000009</td>\n",
       "      <td>False</td>\n",
       "    </tr>\n",
       "    <tr>\n",
       "      <th>CS00000004</th>\n",
       "      <td>CS00000002</td>\n",
       "      <td>False</td>\n",
       "    </tr>\n",
       "    <tr>\n",
       "      <th>CS00000004</th>\n",
       "      <td>CS00000006</td>\n",
       "      <td>False</td>\n",
       "    </tr>\n",
       "  </tbody>\n",
       "</table>\n",
       "</div>"
      ],
      "text/plain": [
       "                          SegmentId  Disabled\n",
       "ConfiguredWorkContextId                      \n",
       "CS00000005               DT00000001     False\n",
       "CS00000002                 CS000366     False\n",
       "CS00000003               CS00000009     False\n",
       "CS00000004               CS00000002     False\n",
       "CS00000004               CS00000006     False"
      ]
     },
     "execution_count": 7,
     "metadata": {},
     "output_type": "execute_result"
    }
   ],
   "source": [
    "ws.head()"
   ]
  },
  {
   "cell_type": "code",
   "execution_count": 8,
   "id": "5a4f7c9f",
   "metadata": {},
   "outputs": [],
   "source": [
    "wcs = wc.join(ws, how='inner')\n",
    "result = wcs.loc[~wcs['Disabled']].copy()\n",
    "result.to_csv('workcontext.csv')"
   ]
  }
 ],
 "metadata": {
  "kernelspec": {
   "display_name": "Python 3",
   "language": "python",
   "name": "python3"
  },
  "language_info": {
   "codemirror_mode": {
    "name": "ipython",
    "version": 3
   },
   "file_extension": ".py",
   "mimetype": "text/x-python",
   "name": "python",
   "nbconvert_exporter": "python",
   "pygments_lexer": "ipython3",
   "version": "3.10.12"
  },
  "varInspector": {
   "cols": {
    "lenName": 16,
    "lenType": 16,
    "lenVar": 40
   },
   "kernels_config": {
    "python": {
     "delete_cmd_postfix": "",
     "delete_cmd_prefix": "del ",
     "library": "var_list.py",
     "varRefreshCmd": "print(var_dic_list())"
    },
    "r": {
     "delete_cmd_postfix": ") ",
     "delete_cmd_prefix": "rm(",
     "library": "var_list.r",
     "varRefreshCmd": "cat(var_dic_list()) "
    }
   },
   "types_to_exclude": [
    "module",
    "function",
    "builtin_function_or_method",
    "instance",
    "_Feature"
   ],
   "window_display": false
  }
 },
 "nbformat": 4,
 "nbformat_minor": 5
}
