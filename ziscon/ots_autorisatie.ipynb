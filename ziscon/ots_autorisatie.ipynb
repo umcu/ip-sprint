{
 "cells": [
  {
   "cell_type": "code",
   "execution_count": 1,
   "id": "d2cdf87c",
   "metadata": {},
   "outputs": [],
   "source": [
    "import cdag\n",
    "from collections import defaultdict\n",
    "from itertools import chain"
   ]
  },
  {
   "cell_type": "code",
   "execution_count": 2,
   "id": "d84cd3d2",
   "metadata": {},
   "outputs": [
    {
     "ename": "KeyError",
     "evalue": "'PADER '",
     "output_type": "error",
     "traceback": [
      "\u001b[0;31m---------------------------------------------------------------------------\u001b[0m",
      "\u001b[0;31mKeyError\u001b[0m                                  Traceback (most recent call last)",
      "\u001b[0;32m/tmp/ipykernel_19173/2231744273.py\u001b[0m in \u001b[0;36m<module>\u001b[0;34m\u001b[0m\n\u001b[0;32m----> 1\u001b[0;31m \u001b[0mcdag\u001b[0m\u001b[0;34m.\u001b[0m\u001b[0mload_data\u001b[0m\u001b[0;34m(\u001b[0m\u001b[0;34m)\u001b[0m\u001b[0;34m\u001b[0m\u001b[0;34m\u001b[0m\u001b[0m\n\u001b[0m",
      "\u001b[0;32m~/project/dm/cdag.py\u001b[0m in \u001b[0;36mload_data\u001b[0;34m()\u001b[0m\n\u001b[1;32m    134\u001b[0m         \u001b[0;32melif\u001b[0m \u001b[0mlinkcode\u001b[0m\u001b[0;34m[\u001b[0m\u001b[0;36m0\u001b[0m\u001b[0;34m]\u001b[0m \u001b[0;34m==\u001b[0m \u001b[0;34m'@'\u001b[0m\u001b[0;34m:\u001b[0m\u001b[0;34m\u001b[0m\u001b[0;34m\u001b[0m\u001b[0m\n\u001b[1;32m    135\u001b[0m             \u001b[0mparent\u001b[0m \u001b[0;34m=\u001b[0m \u001b[0mgroup_index\u001b[0m\u001b[0;34m[\u001b[0m\u001b[0melt\u001b[0m\u001b[0;34m[\u001b[0m\u001b[0;34m'groepcode'\u001b[0m\u001b[0;34m]\u001b[0m\u001b[0;34m]\u001b[0m\u001b[0;34m\u001b[0m\u001b[0;34m\u001b[0m\u001b[0m\n\u001b[0;32m--> 136\u001b[0;31m             \u001b[0mchild\u001b[0m  \u001b[0;34m=\u001b[0m \u001b[0mgroup_index\u001b[0m\u001b[0;34m[\u001b[0m\u001b[0mlinkcode\u001b[0m\u001b[0;34m[\u001b[0m\u001b[0;36m2\u001b[0m\u001b[0;34m:\u001b[0m\u001b[0;34m]\u001b[0m\u001b[0;34m]\u001b[0m\u001b[0;34m\u001b[0m\u001b[0;34m\u001b[0m\u001b[0m\n\u001b[0m\u001b[1;32m    137\u001b[0m             \u001b[0mgraph\u001b[0m\u001b[0;34m.\u001b[0m\u001b[0mconnect\u001b[0m\u001b[0;34m(\u001b[0m\u001b[0mchild\u001b[0m\u001b[0;34m,\u001b[0m \u001b[0;34m'ischild'\u001b[0m\u001b[0;34m,\u001b[0m \u001b[0mparent\u001b[0m\u001b[0;34m)\u001b[0m\u001b[0;34m\u001b[0m\u001b[0;34m\u001b[0m\u001b[0m\n\u001b[1;32m    138\u001b[0m \u001b[0;34m\u001b[0m\u001b[0m\n",
      "\u001b[0;31mKeyError\u001b[0m: 'PADER '"
     ]
    }
   ],
   "source": [
    "cdag.load_data()"
   ]
  },
  {
   "cell_type": "code",
   "execution_count": null,
   "id": "1facb271",
   "metadata": {},
   "outputs": [],
   "source": [
    "cdag.graph.search_nodes(naam='TKAPPEN')"
   ]
  },
  {
   "cell_type": "code",
   "execution_count": null,
   "id": "a27b5cfd",
   "metadata": {},
   "outputs": [],
   "source": [
    "def group_descr(code):\n",
    "    lst = [g for g in groups if g['code'] == code]\n",
    "    if len(lst) == 0:\n",
    "        print(f\"onbekende groep {code}\")\n",
    "    elif len(lst) == 1:\n",
    "        return lst[0]\n",
    "    else:\n",
    "        print(f\"meerdere mogelijkheden voor groep {code}\")"
   ]
  },
  {
   "cell_type": "code",
   "execution_count": null,
   "id": "ac9a3d3c",
   "metadata": {},
   "outputs": [],
   "source": [
    "def groups_for_user(username):\n",
    "    return [gl['groepcode'] for gl in group_links if username in gl['linkcode']]\n",
    "\n",
    "def ancestors_of_group(groupcode, visited=None, level=1):\n",
    "    if visited is None:\n",
    "        visited = defaultdict(int)\n",
    "    result = []\n",
    "    for edge in group_hier:\n",
    "        parent, child = edge['parent'], edge['child']\n",
    "        if visited[parent]: continue\n",
    "        if child == groupcode:\n",
    "            visited[parent] = 1\n",
    "            result.append({'parent': parent, 'level': level})\n",
    "            result.extend(parents(parent, visited, level+1))\n",
    "    return result\n",
    "\n",
    "def effective_groups_for_user(username):\n",
    "    parents = groups_for_user(username)\n",
    "    groups = list(chain.from_iterable(ancestors_of_group(g) for g in parents))\n",
    "    for p in parents:\n",
    "        groups.append({'parent': p, 'level': 0})\n",
    "    interm = {}\n",
    "    for g in groups:\n",
    "        key = g['parent']\n",
    "        if key in interm:\n",
    "            interm[key] = min(interm[key], g['level'])\n",
    "        else:\n",
    "            interm[key] = g['level']\n",
    "    result = [{'parent': key, 'level': value} for key, value in interm.items()]\n",
    "    result.sort(key=lambda x: x['level'])\n",
    "    return result"
   ]
  },
  {
   "cell_type": "code",
   "execution_count": null,
   "id": "47bf71b8",
   "metadata": {},
   "outputs": [],
   "source": [
    "group_types = defaultdict(int)\n",
    "group_hier = []\n",
    "for group_link in group_links:\n",
    "    group_code, link_code = group_link['groepcode'], group_link['linkcode']\n",
    "    first, second = link_code[0], link_code[1]\n",
    "    if first.isalpha():\n",
    "        group_types['a-z'] += 1\n",
    "    elif first == '@':\n",
    "        if group_link['islid'] != '1':\n",
    "            print(group_link)\n",
    "        group_hier.append({'parent': group_code, 'child': link_code[2:]})\n",
    "        group_types[first+second] += 1\n",
    "    else:\n",
    "        group_types[first] += 1\n",
    "# group_links: 14382 entries 'a-z', 3020 entries '0-9', 4630 entries '@G'"
   ]
  },
  {
   "cell_type": "code",
   "execution_count": null,
   "id": "c56080ba",
   "metadata": {},
   "outputs": [],
   "source": [
    "def worksettings(code):\n",
    "    return [w for w in worksetting if w['CODE'] == code]"
   ]
  },
  {
   "cell_type": "code",
   "execution_count": null,
   "id": "0f04b089",
   "metadata": {},
   "outputs": [],
   "source": [
    "for p in effective_groups_for_user('TKAPPEN'):\n",
    "    group_code = p['parent']\n",
    "    ws = worksettings(group_code)\n",
    "    if len(ws) > 0: # beperking tot diepe nesting: and p['level'] > 5:\n",
    "        desc = group(group_code)\n",
    "        print(f\"groep {group_code} ({desc['searchcode']}), niveau={p['level']}\")\n",
    "        for e in ws:\n",
    "            setting_id = e.get('SettingId', '')\n",
    "            if setting_id == '__CSSTD__CSSTD__': continue # ignore this for the time being\n",
    "            print(f\"    {e.get('SegmentClassId', '')}\\t{e.get('SegmentId', '')}\\t{setting_id}\")\n",
    "        print('-----')"
   ]
  }
 ],
 "metadata": {
  "kernelspec": {
   "display_name": "Python 3",
   "language": "python",
   "name": "python3"
  },
  "language_info": {
   "codemirror_mode": {
    "name": "ipython",
    "version": 3
   },
   "file_extension": ".py",
   "mimetype": "text/x-python",
   "name": "python",
   "nbconvert_exporter": "python",
   "pygments_lexer": "ipython3",
   "version": "3.10.12"
  },
  "varInspector": {
   "cols": {
    "lenName": 16,
    "lenType": 16,
    "lenVar": 40
   },
   "kernels_config": {
    "python": {
     "delete_cmd_postfix": "",
     "delete_cmd_prefix": "del ",
     "library": "var_list.py",
     "varRefreshCmd": "print(var_dic_list())"
    },
    "r": {
     "delete_cmd_postfix": ") ",
     "delete_cmd_prefix": "rm(",
     "library": "var_list.r",
     "varRefreshCmd": "cat(var_dic_list()) "
    }
   },
   "types_to_exclude": [
    "module",
    "function",
    "builtin_function_or_method",
    "instance",
    "_Feature"
   ],
   "window_display": false
  }
 },
 "nbformat": 4,
 "nbformat_minor": 5
}
