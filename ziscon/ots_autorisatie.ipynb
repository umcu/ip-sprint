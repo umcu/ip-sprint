{
 "cells": [
  {
   "cell_type": "code",
   "execution_count": 2,
   "id": "d2cdf87c",
   "metadata": {},
   "outputs": [],
   "source": [
    "from cdag import Graph, load_data, read_table\n",
    "import pandas as pd"
   ]
  },
  {
   "cell_type": "code",
   "execution_count": 3,
   "id": "d84cd3d2",
   "metadata": {},
   "outputs": [],
   "source": [
    "graph = Graph()\n",
    "load_data(graph)"
   ]
  },
  {
   "cell_type": "code",
   "execution_count": 7,
   "id": "1bbacc6d-58db-4d1c-a488-682fed3b7cb0",
   "metadata": {},
   "outputs": [
    {
     "name": "stdout",
     "output_type": "stream",
     "text": [
      "TKAPPEN Kappen, T.H. (Teus)\n",
      "\tgroup: ZH0085 SPEANEU Anesthesioloog (UMC)\n",
      "\tgroup: ZH0125 SPEPYNU Pijnarts (UMC)\n",
      "\trole: ZH001073 OK PDMS Medewerker (UMC)\n",
      "\t\tZH0554 OKPDMSU OK PDMS Medewerker (UMC)\n",
      "\trole: ZH001407 Inloggen Testaccounts UMC Utrecht - HiX Opleiding\n",
      "\t\tZH0003 &TESTU Aanvullend - Mag inloggen met testgebruikers UMC Utrecht\n"
     ]
    }
   ],
   "source": [
    "user = graph.find_one_node('User', naam='TKAPPEN')\n",
    "for group in graph.groups_for_user(user):\n",
    "    print(f\"\\tgroup: {group}\")\n",
    "for role in graph.roles_for_user(user):\n",
    "    print(f\"\\trole: {role}\")\n",
    "    for nb in graph.adjacent(role, 'ismember'):\n",
    "        print(f\"\\t\\t{nb}\")"
   ]
  },
  {
   "cell_type": "code",
   "execution_count": 8,
   "id": "c4f16e16",
   "metadata": {},
   "outputs": [
    {
     "name": "stdout",
     "output_type": "stream",
     "text": [
      "ZH001073 OK PDMS Medewerker (UMC)\n",
      "0: ZH0554 OKPDMSU OK PDMS Medewerker (UMC)\n",
      "1: OKPDMS OKPDMS OK PDMS Medewerker\n",
      "1: ZH0418 REGUMCU Reguliere locaties UMC\n",
      "1: ZH1288 REGB&O Reguliere locaties B&O\n",
      "2: PDMMDW PDMMDW PDMS medewerker\n",
      "2: ZH0414 &LOCATIE Locatiecontextgroepen\n",
      "3: OKMO OKMO OK Medewerker overkoepelend\n",
      "3: ZKH& ZKH& Aanvullende groepen\n",
      "4: OKGEB OKGEB OK Gebruikers\n",
      "5: OK OK OK\n",
      "6: ZKH ZKH Ziekenhuis\n"
     ]
    }
   ],
   "source": [
    "role = graph.find_one_node('Role', naam='ZH001073')\n",
    "for rg in graph.effective_groups_for_user(role):\n",
    "    print(f\"{rg._distance}: {rg}\")"
   ]
  }
 ],
 "metadata": {
  "kernelspec": {
   "display_name": "Python 3 (ipykernel)",
   "language": "python",
   "name": "python3"
  },
  "language_info": {
   "codemirror_mode": {
    "name": "ipython",
    "version": 3
   },
   "file_extension": ".py",
   "mimetype": "text/x-python",
   "name": "python",
   "nbconvert_exporter": "python",
   "pygments_lexer": "ipython3",
   "version": "3.10.9"
  },
  "varInspector": {
   "cols": {
    "lenName": 16,
    "lenType": 16,
    "lenVar": 40
   },
   "kernels_config": {
    "python": {
     "delete_cmd_postfix": "",
     "delete_cmd_prefix": "del ",
     "library": "var_list.py",
     "varRefreshCmd": "print(var_dic_list())"
    },
    "r": {
     "delete_cmd_postfix": ") ",
     "delete_cmd_prefix": "rm(",
     "library": "var_list.r",
     "varRefreshCmd": "cat(var_dic_list()) "
    }
   },
   "types_to_exclude": [
    "module",
    "function",
    "builtin_function_or_method",
    "instance",
    "_Feature"
   ],
   "window_display": false
  }
 },
 "nbformat": 4,
 "nbformat_minor": 5
}
