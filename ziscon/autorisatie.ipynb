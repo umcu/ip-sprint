{
 "cells": [
  {
   "cell_type": "code",
   "execution_count": 1,
   "id": "d2cdf87c",
   "metadata": {},
   "outputs": [],
   "source": [
    "from cdag import Graph, load_data, read_table, parse, tokenize\n",
    "from personal import database_connection\n",
    "import re, pandas as pd\n",
    "from collections import defaultdict"
   ]
  },
  {
   "cell_type": "code",
   "execution_count": 11,
   "id": "c387c25f-ccb9-4dbb-be76-a8badeb4d178",
   "metadata": {},
   "outputs": [],
   "source": [
    "# graph = Graph()\n",
    "# load_data(graph)"
   ]
  },
  {
   "cell_type": "code",
   "execution_count": 12,
   "id": "f9d9aee1-05b7-40bb-bf0c-27b6a9a6caa7",
   "metadata": {},
   "outputs": [],
   "source": [
    "# primary_groups: CHIP (CS only), PS (irrelevant), ZKH (tree root), plus some others\n",
    "# root = graph.find_one_node('Group', searchcode='ZKH')"
   ]
  },
  {
   "cell_type": "code",
   "execution_count": 5,
   "id": "4bd92cd6-c0a5-4b55-a086-3d7f4c323bce",
   "metadata": {},
   "outputs": [],
   "source": [
    "# read HiX tables\n",
    "# method 1: from CSV files\n",
    "# method 2: from database\n",
    "# connection = database_connection('hixacceptatie')\n",
    "# iv = pd.read_sql(sql=f\"select * from [hix_acc].[dbo].[config_instvars];\", con=connection\n",
    "EMPTY = '-'\n",
    "iv = pd.read_csv('config_instvars.csv')\n",
    "iv['VALUE'] = iv['VALUE'].fillna(EMPTY)\n",
    "iv['NAAM'] = iv['NAAM'].fillna(EMPTY)\n",
    "iv['SPECCODE'] = iv['SPECCODE'].fillna(EMPTY)\n",
    "ivcl = iv.loc[(iv['INSTTYPE']=='L') | (iv['INSTTYPE']=='C')]"
   ]
  },
  {
   "cell_type": "code",
   "execution_count": 16,
   "id": "ac974496-ab17-453c-b951-3657357860e6",
   "metadata": {},
   "outputs": [],
   "source": [
    "# read HiX tables (continued)\n",
    "wc = pd.read_csv('config_workcontext.csv')\n",
    "wc.set_index('Id', inplace=True)\n",
    "wc['SettingSubId'] = wc['SettingSubId'].fillna(EMPTY)\n",
    "ws = pd.read_csv('config_wcsegments.csv')\n",
    "ws.set_index('ConfiguredWorkContextId', inplace=True)\n",
    "wsa = ws.loc[ws['Disabled'] == False]\n",
    "wcs = wc.join(wsa, how='left')\n",
    "wcs.sort_values(by=['SettingId', 'SettingSubId'], inplace=True)\n",
    "# gr = pd.read_csv('ziscon_groepen.csv')\n",
    "# us = pd.read_csv('ziscon_user.csv',\n",
    "#                  dtype={'FUNKTIE':'string', 'BEHEERDER':'boolean', 'WACHTWOORD':'string',\n",
    "#                         'DISABLED': 'boolean', 'UZINR': 'string', 'ROLE': 'string', 'WRONGCHECKS': 'string'})"
   ]
  },
  {
   "cell_type": "code",
   "execution_count": 20,
   "id": "e4e4d5a1-4ec9-49e5-88c9-e91777fc9bec",
   "metadata": {},
   "outputs": [],
   "source": [
    "#x=\n",
    "ivcl.loc[(ivcl['OWNER'] == '@GBEH')]# & iv['NAAM'].str.contains('OND_')]#.to_dict('records')\n",
    "#parse(x[0]['VALUE'])"
   ]
  },
  {
   "cell_type": "code",
   "execution_count": 19,
   "id": "5a4f7c9f",
   "metadata": {},
   "outputs": [],
   "source": [
    "wcs.loc[(wcs['OwnerId']=='BEH') & wcs['SegmentClassId'].str.contains('DOSSIER')]"
   ]
  }
 ],
 "metadata": {
  "kernelspec": {
   "display_name": "Python 3 (ipykernel)",
   "language": "python",
   "name": "python3"
  },
  "language_info": {
   "codemirror_mode": {
    "name": "ipython",
    "version": 3
   },
   "file_extension": ".py",
   "mimetype": "text/x-python",
   "name": "python",
   "nbconvert_exporter": "python",
   "pygments_lexer": "ipython3",
   "version": "3.10.12"
  },
  "varInspector": {
   "cols": {
    "lenName": 16,
    "lenType": 16,
    "lenVar": 40
   },
   "kernels_config": {
    "python": {
     "delete_cmd_postfix": "",
     "delete_cmd_prefix": "del ",
     "library": "var_list.py",
     "varRefreshCmd": "print(var_dic_list())"
    },
    "r": {
     "delete_cmd_postfix": ") ",
     "delete_cmd_prefix": "rm(",
     "library": "var_list.r",
     "varRefreshCmd": "cat(var_dic_list()) "
    }
   },
   "types_to_exclude": [
    "module",
    "function",
    "builtin_function_or_method",
    "instance",
    "_Feature"
   ],
   "window_display": false
  }
 },
 "nbformat": 4,
 "nbformat_minor": 5
}