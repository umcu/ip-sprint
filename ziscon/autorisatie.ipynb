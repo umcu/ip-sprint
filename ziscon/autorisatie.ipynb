{
 "cells": [
  {
   "cell_type": "code",
   "execution_count": 20,
   "id": "d2cdf87c",
   "metadata": {},
   "outputs": [],
   "source": [
    "from cdag import Graph, load_data, read_table, parse, tokenize\n",
    "from personal import database_connection\n",
    "import re, pandas as pd\n",
    "from collections import defaultdict"
   ]
  },
  {
   "cell_type": "code",
   "execution_count": 2,
   "id": "c387c25f-ccb9-4dbb-be76-a8badeb4d178",
   "metadata": {},
   "outputs": [],
   "source": [
    "graph = Graph()\n",
    "load_data(graph)"
   ]
  },
  {
   "cell_type": "code",
   "execution_count": 3,
   "id": "f9d9aee1-05b7-40bb-bf0c-27b6a9a6caa7",
   "metadata": {},
   "outputs": [],
   "source": [
    "# primary_groups: CHIP (CS only), PS (irrelevant), ZKH (tree root), plus some others\n",
    "root = graph.find_one_node('Group', searchcode='ZKH')"
   ]
  },
  {
   "cell_type": "code",
   "execution_count": 4,
   "id": "4b7d029f-00dd-4250-a0df-cdcaa7110a44",
   "metadata": {},
   "outputs": [],
   "source": [
    "for child in root.adjacent('haschild'):\n",
    "    print(child)"
   ]
  },
  {
   "cell_type": "code",
   "execution_count": 5,
   "id": "4bd92cd6-c0a5-4b55-a086-3d7f4c323bce",
   "metadata": {},
   "outputs": [],
   "source": [
    "# read HiX tables\n",
    "# method 1: from CSV files\n",
    "# method 2: from database\n",
    "# connection = database_connection('hixacceptatie')\n",
    "# iv = pd.read_sql(sql=f\"select * from [hix_acc].[dbo].[config_instvars];\", con=connection\n",
    "iv = pd.read_csv('config_instvars.csv')\n",
    "iv['VALUE'] = iv['VALUE'].fillna('X\"\"')\n",
    "# iv.groupby('INSTTYPE').count()"
   ]
  },
  {
   "cell_type": "code",
   "execution_count": 6,
   "id": "ac974496-ab17-453c-b951-3657357860e6",
   "metadata": {},
   "outputs": [],
   "source": [
    "# read HiX tables (continued)\n",
    "wc = pd.read_csv('config_workcontext.csv')\n",
    "wc.set_index('Id', inplace=True)\n",
    "ws = pd.read_csv('config_wcsegments.csv')\n",
    "ws.set_index('ConfiguredWorkContextId', inplace=True)\n",
    "wsa = ws.loc[ws['Disabled'] == False]\n",
    "wcs = wc.join(wsa, how='inner')\n",
    "gr = pd.read_csv('ziscon_groepen.csv')\n",
    "#us = pd.read_csv('ziscon_user.csv',\n",
    "#                 dtype={'FUNKTIE':'string', 'BEHEERDER':'boolean', 'WACHTWOORD':'string',\n",
    "#                        'DISABLED': 'boolean', 'UZINR': 'string', 'ROLE': 'string', 'WRONGCHECKS': 'string'})"
   ]
  },
  {
   "cell_type": "code",
   "execution_count": 29,
   "id": "20fd7cf7-02bf-4282-9f6b-116135de1e7a",
   "metadata": {},
   "outputs": [],
   "source": [
    "# BEH: doss_noodprexemp geel value=CM\n",
    "#      doss_noodprsee   groen value=CT\n",
    "#      ond_rechten/widocarc CSSSSSF 5xblauw 1xrood\n",
    "# kijk ook bij Document WI_EPDDASHBOARD. inverted=true -> alles behalve\n",
    "cids = re.compile('^C\\w{6,10}(,\\w{6,10})*$')\n",
    "cx1  = re.compile('^C[A-Z]$')\n",
    "cx6  = re.compile('^C[A-Z]{6}$')\n",
    "lx1  = re.compile('^L[A-Z]$')\n",
    "lx6  = re.compile('^L[A-Z]{6}$')\n",
    "idx  = defaultdict(int)\n",
    "for elt in iv.to_dict('records'):\n",
    "    if elt['INSTTYPE'] in ('G', 'D', 'U'):\n",
    "        continue\n",
    "    value = elt['VALUE'].rstrip('\\x01\\u00a9')\n",
    "    if 'if(' in value or len(value) == 1 or \\\n",
    "       'Value(' in value or 'CRLF' in value: continue\n",
    "    if value.startswith('C') and '{' in value:\n",
    "        idx['C{}'] += 1\n",
    "    elif value.startswith('C') and 'xml' in value:\n",
    "        idx['C xml'] += 1\n",
    "    elif cids.search(value):\n",
    "        idx['Cids'] += 1\n",
    "    elif cx1.search(value):\n",
    "        idx['Cx1'] += 1\n",
    "    elif cx6.search(value):\n",
    "        idx['Cx6'] += 1\n",
    "    elif lx1.search(value):\n",
    "        idx['Lx1'] += 1\n",
    "    elif lx6.search(value):\n",
    "        idx['Lx6'] += 1\n",
    "    elif value.startswith('C') and value[1] in '0123456789':\n",
    "        idx['Cd'] += 1\n",
    "    elif value.startswith('N') and value[1] in '0123456789':\n",
    "        idx['Nd'] += 1\n",
    "    else:\n",
    "        idx[value] += 1\n",
    "count = 0\n",
    "for k, v in idx.items():\n",
    "    print(f\"{k}: {v}\")\n",
    "    count += 1\n",
    "    if count > 30: break"
   ]
  },
  {
   "cell_type": "code",
   "execution_count": 18,
   "id": "e4e4d5a1-4ec9-49e5-88c9-e91777fc9bec",
   "metadata": {},
   "outputs": [],
   "source": [
    "#x = iv.loc[(iv['OWNER'] == '@GZH0085') & iv['NAAM'].str.contains('AG_US')].to_dict('records')\n",
    "#x[0]\n",
    "iv.loc[(iv['OWNER'] == '@GZH0085')]"
   ]
  },
  {
   "cell_type": "code",
   "execution_count": 9,
   "id": "28533cdf-4c9d-48dd-8c5c-4c57b9b1ac9b",
   "metadata": {},
   "outputs": [],
   "source": [
    "parse(x[0]['VALUE'])"
   ]
  },
  {
   "cell_type": "code",
   "execution_count": 16,
   "id": "5a4f7c9f",
   "metadata": {},
   "outputs": [],
   "source": [
    "# wcs.loc[(wcs['OwnerId']=='SPEANE') & wcs['SettingId'].str.contains('AG')]\n",
    "wcs.loc[(wcs['OwnerId'] == 'ZH0085') & wcs['SettingId'].str.contains('AG')]"
   ]
  },
  {
   "cell_type": "code",
   "execution_count": 11,
   "id": "3b09dfae-1eb3-4754-91ec-c1acca58c9bd",
   "metadata": {},
   "outputs": [],
   "source": [
    "#occurring, missing = {}, set()\n",
    "#sep = '-' * 10\n",
    "#for k, elt in enumerate(type_c.to_dict('records')):\n",
    "#    value = guid_rx.sub(resolve_guid, elt['VALUE'])\n",
    "#    # matches = guid_rx.findall(value)\n",
    "#    if k < 5:\n",
    "#        print(f\"{sep}\\nvalue {k}\")\n",
    "#        tokens = tokenize(value)\n",
    "#        obj = parse(tokens)\n",
    "#        for elt in obj:\n",
    "#            print('\\t'+elt)"
   ]
  }
 ],
 "metadata": {
  "kernelspec": {
   "display_name": "Python 3 (ipykernel)",
   "language": "python",
   "name": "python3"
  },
  "language_info": {
   "codemirror_mode": {
    "name": "ipython",
    "version": 3
   },
   "file_extension": ".py",
   "mimetype": "text/x-python",
   "name": "python",
   "nbconvert_exporter": "python",
   "pygments_lexer": "ipython3",
   "version": "3.10.12"
  },
  "varInspector": {
   "cols": {
    "lenName": 16,
    "lenType": 16,
    "lenVar": 40
   },
   "kernels_config": {
    "python": {
     "delete_cmd_postfix": "",
     "delete_cmd_prefix": "del ",
     "library": "var_list.py",
     "varRefreshCmd": "print(var_dic_list())"
    },
    "r": {
     "delete_cmd_postfix": ") ",
     "delete_cmd_prefix": "rm(",
     "library": "var_list.r",
     "varRefreshCmd": "cat(var_dic_list()) "
    }
   },
   "types_to_exclude": [
    "module",
    "function",
    "builtin_function_or_method",
    "instance",
    "_Feature"
   ],
   "window_display": false
  }
 },
 "nbformat": 4,
 "nbformat_minor": 5
}