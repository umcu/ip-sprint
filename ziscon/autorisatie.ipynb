{
 "cells": [
  {
   "cell_type": "code",
   "execution_count": 1,
   "id": "d2cdf87c",
   "metadata": {},
   "outputs": [],
   "source": [
    "from cdag import Graph, load_data, read_table\n",
    "import re, pandas as pd"
   ]
  },
  {
   "cell_type": "code",
   "execution_count": 2,
   "id": "2dcd6170-9cc7-47ab-92bf-d2b5a28f7889",
   "metadata": {},
   "outputs": [],
   "source": [
    "tg = pd.read_csv('chipsoft_logic_table_guids.csv', sep=';')\n",
    "table_name = {}\n",
    "for elt in tg.to_dict('records'):\n",
    "    table_name[elt['classguid']] = elt['classid']"
   ]
  },
  {
   "cell_type": "code",
   "execution_count": 18,
   "id": "23efdbc4-8740-483a-9aa2-0eea58626d49",
   "metadata": {},
   "outputs": [],
   "source": [
    "def resolve_guid(match):\n",
    "    return table_name.get(match.group(0), '<unknown>')"
   ]
  },
  {
   "cell_type": "code",
   "execution_count": 3,
   "id": "ffa3aec5-624a-478a-a65d-3f46e9d490f3",
   "metadata": {},
   "outputs": [],
   "source": [
    "iv = pd.read_csv('config_instvars.csv')\n",
    "iv['VALUE'] = iv['VALUE'].fillna('X\"\"')"
   ]
  },
  {
   "cell_type": "code",
   "execution_count": 11,
   "id": "523b6b7c-e9b3-45a0-996f-e787f7b4d6d6",
   "metadata": {},
   "outputs": [],
   "source": [
    "# iv.groupby('INSTTYPE').count()\n",
    "# C: 5671, D: 351, G: 6382, L: 70606, U: 904852\n",
    "# type L has only a few possibilities for VALUE: LT\u00a9, LTTTTTT, CT\n",
    "# type U has more options for value (including XML strings) but appears to be related to individual user rights or settings\n",
    "# types D and G always have owner=CHIPSOFT"
   ]
  },
  {
   "cell_type": "code",
   "execution_count": 4,
   "id": "4d9f7efe-5cda-4854-ae7d-1ea4cdba8c06",
   "metadata": {},
   "outputs": [],
   "source": [
    "type_c = iv.loc[iv['INSTTYPE'] == 'C']\n",
    "# type_c.head(10)"
   ]
  },
  {
   "cell_type": "code",
   "execution_count": 13,
   "id": "7d4069e7-2f54-4d70-a5ff-73c3080b40d4",
   "metadata": {},
   "outputs": [],
   "source": [
    "# Unicode dingbats, open and closed circled digits\n",
    "OD1, CD1 = '\\u2780', '\\u2776'\n",
    "OD2, CD2 = '\\u2781', '\\u2777'\n",
    "OD3, CD3 = '\\u2782', '\\u2778'\n",
    "level1_rx = re.compile(r'\"([\\u2782\\u2778\\u2781\\u2777\\x20\\x21\\x23-\\x7E]+?)\"')\n",
    "level2_rx = re.compile(r'\"\"([\\u2782\\u2778\\x20\\x21\\x23-\\x7E]+?)\"\"')\n",
    "level3_rx = re.compile(r'\"\"\"\"([\\x20\\x21\\x23-\\x7E]+?)\"\"\"\"')\n",
    "\n",
    "def tokenize(s):\n",
    "    # TODO: are \"\" and \"\"\"\" artefacts grep Sof CSV export? \n",
    "    if s.startswith('C'):\n",
    "        s3 = level3_rx.sub('\\u2782\\g<1>\\u2778', s.lstrip('C').rstrip('\\x01'))\n",
    "        s2 = level2_rx.sub('\\u2781\\g<1>\\u2777', s3)\n",
    "        s1 = level1_rx.sub('\\u2780\\g<1>\\u2776', s2)\n",
    "        return s1\n",
    "    else:\n",
    "        return ''\n",
    "    \n",
    "def parse(s):\n",
    "    if s.startswith('\\u2780') and s.endswith('\\u2776'):\n",
    "        # TODO: handle levels 2 and 3\n",
    "        return s[1:-1].split('\\u2776,\\u2780')\n",
    "    else:\n",
    "        print(f\"begin={s[0]} end={s[-1]}\")\n",
    "        return"
   ]
  },
  {
   "cell_type": "code",
   "execution_count": 23,
   "id": "dbb62403-4a32-4746-b9ad-4a01e172b6e9",
   "metadata": {},
   "outputs": [],
   "source": [
    "#occurring, missing = {}, set()\n",
    "#guid_rx = re.compile(r'\\{[A-Z0-9-]+?\\}')\n",
    "#sep = '-'*10\n",
    "#for k, elt in enumerate(type_c.to_dict('records')):\n",
    "#    value = guid_rx.sub(resolve_guid, elt['VALUE'])\n",
    "#    # matches = guid_rx.findall(value)\n",
    "#    if k < 4:\n",
    "#        print(f\"{sep}\\nvalue {k}\")\n",
    "#        tokens = tokenize(value)\n",
    "#        obj = parse(tokens)\n",
    "#        for elt in obj:\n",
    "#            print('\\t'+elt)"
   ]
  },
  {
   "cell_type": "code",
   "execution_count": 24,
   "id": "6f11fc34-1e63-4667-b8e3-82981ba20943",
   "metadata": {},
   "outputs": [],
   "source": [
    "wc = pd.read_csv('config_workcontext.csv')\n",
    "wc.set_index('Id', inplace=True)\n",
    "ws = pd.read_csv('config_wcsegments.csv')\n",
    "ws.set_index('ConfiguredWorkContextId', inplace=True)"
   ]
  },
  {
   "cell_type": "code",
   "execution_count": 25,
   "id": "7aedcaa9-90eb-46a2-b93e-8f94c98e6487",
   "metadata": {},
   "outputs": [],
   "source": [
    "gr = pd.read_csv('ziscon_groepen.csv')"
   ]
  },
  {
   "cell_type": "code",
   "execution_count": 26,
   "id": "1f424e43-79f1-44b2-ba55-da5136ce81d3",
   "metadata": {},
   "outputs": [],
   "source": [
    "us = pd.read_csv('ziscon_user.csv',\n",
    "                 dtype={'FUNKTIE':'string', 'BEHEERDER':'boolean', 'WACHTWOORD':'string',\n",
    "                        'DISABLED': 'boolean', 'UZINR': 'string', 'ROLE': 'string', 'WRONGCHECKS': 'string'})"
   ]
  },
  {
   "cell_type": "code",
   "execution_count": 28,
   "id": "5a4f7c9f",
   "metadata": {},
   "outputs": [],
   "source": [
    "wcs = wc.join(ws, how='inner')\n",
    "#result = wcs.loc[~wcs['Disabled']].copy()\n",
    "#result.to_csv('workcontext.csv')\n",
    "wcs.loc[(wc['OwnerId']=='ZH0085') & wc['SettingId'].str.contains('AG_US_BEK')]"
   ]
  }
 ],
 "metadata": {
  "kernelspec": {
   "display_name": "Python 3 (ipykernel)",
   "language": "python",
   "name": "python3"
  },
  "language_info": {
   "codemirror_mode": {
    "name": "ipython",
    "version": 3
   },
   "file_extension": ".py",
   "mimetype": "text/x-python",
   "name": "python",
   "nbconvert_exporter": "python",
   "pygments_lexer": "ipython3",
   "version": "3.10.12"
  },
  "varInspector": {
   "cols": {
    "lenName": 16,
    "lenType": 16,
    "lenVar": 40
   },
   "kernels_config": {
    "python": {
     "delete_cmd_postfix": "",
     "delete_cmd_prefix": "del ",
     "library": "var_list.py",
     "varRefreshCmd": "print(var_dic_list())"
    },
    "r": {
     "delete_cmd_postfix": ") ",
     "delete_cmd_prefix": "rm(",
     "library": "var_list.r",
     "varRefreshCmd": "cat(var_dic_list()) "
    }
   },
   "types_to_exclude": [
    "module",
    "function",
    "builtin_function_or_method",
    "instance",
    "_Feature"
   ],
   "window_display": false
  }
 },
 "nbformat": 4,
 "nbformat_minor": 5
}