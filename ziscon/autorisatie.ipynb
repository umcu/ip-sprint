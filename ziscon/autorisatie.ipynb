{
 "cells": [
  {
   "cell_type": "code",
   "execution_count": 1,
   "id": "d2cdf87c",
   "metadata": {},
   "outputs": [],
   "source": [
    "from cdag import Graph, load_data, read_table, parse, tokenize\n",
    "from personal import database_connection\n",
    "import re, pandas as pd\n",
    "from collections import defaultdict"
   ]
  },
  {
   "cell_type": "code",
   "execution_count": 2,
   "id": "c387c25f-ccb9-4dbb-be76-a8badeb4d178",
   "metadata": {},
   "outputs": [],
   "source": [
    "graph = Graph()\n",
    "load_data(graph)"
   ]
  },
  {
   "cell_type": "code",
   "execution_count": 3,
   "id": "f9d9aee1-05b7-40bb-bf0c-27b6a9a6caa7",
   "metadata": {},
   "outputs": [],
   "source": [
    "# primary_groups: CHIP (CS only), PS (irrelevant), ZKH (tree root), plus some others\n",
    "root = graph.find_one_node('Group', searchcode='ZKH')"
   ]
  },
  {
   "cell_type": "code",
   "execution_count": 4,
   "id": "4b7d029f-00dd-4250-a0df-cdcaa7110a44",
   "metadata": {},
   "outputs": [],
   "source": [
    "#for child in root.adjacent('haschild'):\n",
    "#    print(child)"
   ]
  },
  {
   "cell_type": "code",
   "execution_count": 26,
   "id": "4bd92cd6-c0a5-4b55-a086-3d7f4c323bce",
   "metadata": {},
   "outputs": [],
   "source": [
    "# read HiX tables\n",
    "# method 1: from CSV files\n",
    "# method 2: from database\n",
    "# connection = database_connection('hixacceptatie')\n",
    "# iv = pd.read_sql(sql=f\"select * from [hix_acc].[dbo].[config_instvars];\", con=connection\n",
    "iv = pd.read_csv('config_instvars.csv')\n",
    "iv['VALUE'] = iv['VALUE'].fillna('X\"\"')\n",
    "iv['NAAM'] = iv['NAAM'].fillna('____')\n",
    "ivcl = iv.loc[(iv['INSTTYPE']=='L') | (iv['INSTTYPE']=='C')]"
   ]
  },
  {
   "cell_type": "code",
   "execution_count": 31,
   "id": "0358e325-c42e-4b36-88f7-db9bc04c57f4",
   "metadata": {},
   "outputs": [],
   "source": [
    "# iv[iv['NAAM'].str.contains('AG_GLOB') & (iv['OWNER']=='@GBEH')]"
   ]
  },
  {
   "cell_type": "code",
   "execution_count": 12,
   "id": "ac974496-ab17-453c-b951-3657357860e6",
   "metadata": {},
   "outputs": [],
   "source": [
    "# read HiX tables (continued)\n",
    "wc = pd.read_csv('config_workcontext.csv')\n",
    "wc.set_index('Id', inplace=True)\n",
    "ws = pd.read_csv('config_wcsegments.csv')\n",
    "ws.set_index('ConfiguredWorkContextId', inplace=True)\n",
    "wsa = ws.loc[ws['Disabled'] == False]\n",
    "wcs = wc.join(wsa, how='inner')\n",
    "gr = pd.read_csv('ziscon_groepen.csv')\n",
    "#us = pd.read_csv('ziscon_user.csv',\n",
    "#                 dtype={'FUNKTIE':'string', 'BEHEERDER':'boolean', 'WACHTWOORD':'string',\n",
    "#                        'DISABLED': 'boolean', 'UZINR': 'string', 'ROLE': 'string', 'WRONGCHECKS': 'string'})"
   ]
  },
  {
   "cell_type": "code",
   "execution_count": 33,
   "id": "e4e4d5a1-4ec9-49e5-88c9-e91777fc9bec",
   "metadata": {},
   "outputs": [],
   "source": [
    "x=ivcl.loc[(ivcl['OWNER'] == '@GBEH') & iv['NAAM'].str.contains('AG_US')].to_dict('records')\n",
    "x[0]"
   ]
  },
  {
   "cell_type": "code",
   "execution_count": 34,
   "id": "28533cdf-4c9d-48dd-8c5c-4c57b9b1ac9b",
   "metadata": {},
   "outputs": [],
   "source": [
    "parse(x[0]['VALUE'])"
   ]
  },
  {
   "cell_type": "code",
   "execution_count": 24,
   "id": "5a4f7c9f",
   "metadata": {},
   "outputs": [],
   "source": [
    "wcs.loc[(wcs['OwnerId']=='BEH') & wcs['SettingId'].str.contains('AG_')]"
   ]
  }
 ],
 "metadata": {
  "kernelspec": {
   "display_name": "Python 3 (ipykernel)",
   "language": "python",
   "name": "python3"
  },
  "language_info": {
   "codemirror_mode": {
    "name": "ipython",
    "version": 3
   },
   "file_extension": ".py",
   "mimetype": "text/x-python",
   "name": "python",
   "nbconvert_exporter": "python",
   "pygments_lexer": "ipython3",
   "version": "3.10.9"
  },
  "varInspector": {
   "cols": {
    "lenName": 16,
    "lenType": 16,
    "lenVar": 40
   },
   "kernels_config": {
    "python": {
     "delete_cmd_postfix": "",
     "delete_cmd_prefix": "del ",
     "library": "var_list.py",
     "varRefreshCmd": "print(var_dic_list())"
    },
    "r": {
     "delete_cmd_postfix": ") ",
     "delete_cmd_prefix": "rm(",
     "library": "var_list.r",
     "varRefreshCmd": "cat(var_dic_list()) "
    }
   },
   "types_to_exclude": [
    "module",
    "function",
    "builtin_function_or_method",
    "instance",
    "_Feature"
   ],
   "window_display": false
  }
 },
 "nbformat": 4,
 "nbformat_minor": 5
}