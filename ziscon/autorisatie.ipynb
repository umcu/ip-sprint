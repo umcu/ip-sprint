{
 "cells": [
  {
   "cell_type": "code",
   "execution_count": 1,
   "id": "d2cdf87c",
   "metadata": {},
   "outputs": [],
   "source": [
    "from cdag import Graph, load_data, read_table\n",
    "import pandas as pd"
   ]
  },
  {
   "cell_type": "code",
   "execution_count": 2,
   "id": "8498d87d",
   "metadata": {},
   "outputs": [],
   "source": [
    "wc = pd.read_csv('config_workcontext.csv')\n",
    "wc.set_index('Id', inplace=True)\n",
    "ws = pd.read_csv('config_wcsegments.csv')\n",
    "ws.set_index('ConfiguredWorkContextId', inplace=True)"
   ]
  },
  {
   "cell_type": "code",
   "execution_count": 3,
   "id": "45eab1c2",
   "metadata": {},
   "outputs": [],
   "source": [
    "gr = pd.read_csv('ziscon_groepen.csv')\n",
    "gr.loc[gr['CODE'] == 'ZH1294']"
   ]
  },
  {
   "cell_type": "code",
   "execution_count": 4,
   "id": "d529c772-9b5c-4cd3-8f3b-1b7fa796e1d5",
   "metadata": {},
   "outputs": [],
   "source": [
    "#us = pd.read_csv('ziscon_user.csv',\n",
    "#               dtype={'FUNKTIE':'string', 'BEHEERDER':'boolean', 'WACHTWOORD':'string', 'DISABLED': 'boolean',\n",
    "#                     'UZINR': 'string', 'ROLE': 'string', 'WRONGCHECKS': 'string'})"
   ]
  },
  {
   "cell_type": "code",
   "execution_count": 5,
   "id": "2dcd6170-9cc7-47ab-92bf-d2b5a28f7889",
   "metadata": {},
   "outputs": [],
   "source": [
    "tg = pd.read_csv('chipsoft_logic_table_guids.csv')\n",
    "table_name = {}\n",
    "for elt in tg.to_dict('records'):\n",
    "    table_name[elt['classguid']] = elt['classid']"
   ]
  },
  {
   "cell_type": "code",
   "execution_count": 6,
   "id": "94472931",
   "metadata": {},
   "outputs": [],
   "source": [
    "iv = pd.read_csv('config_instvars.csv')\n",
    "ane = iv.loc[iv['OWNER'].str.contains('SPEANE')].copy()"
   ]
  },
  {
   "cell_type": "code",
   "execution_count": 7,
   "id": "ec982072-83eb-4320-b22c-133d23658552",
   "metadata": {},
   "outputs": [],
   "source": [
    "ane.head()"
   ]
  },
  {
   "cell_type": "code",
   "execution_count": 8,
   "id": "d603edb0-368a-48c2-953a-82addcd0eabf",
   "metadata": {},
   "outputs": [],
   "source": [
    "occurring, missing = {}, set()\n",
    "for elt in ane.to_dict('records'):\n",
    "    try:\n",
    "        guid = elt['VALUE'][0:-2].removeprefix('C\"').replace('\"\"', '\"').split(',')[1]\n",
    "    except IndexError:\n",
    "        #print(elt['VALUE'])\n",
    "        continue\n",
    "    name = table_name.get(guid, '<unknown>')\n",
    "    if name == '<unknown>':\n",
    "        missing.add(name)\n",
    "    else:\n",
    "        occurring[guid] = name\n",
    "\n",
    "#for key, value in occurring:\n",
    "#    print(f\"{key}: {value}\")\n",
    "#for key in missing:\n",
    "#    print(key)"
   ]
  },
  {
   "cell_type": "code",
   "execution_count": 9,
   "id": "7a89b25d-e8f8-4776-bbad-908436652dd2",
   "metadata": {},
   "outputs": [],
   "source": [
    "value = ane.to_dict('records')[0]['VALUE']\n",
    "elts = value[0:-2].removeprefix('C\"').replace('\"\"', '\"').split(',')\n",
    "table_name[elts[1]]"
   ]
  },
  {
   "cell_type": "code",
   "execution_count": 10,
   "id": "5d76e5a0-05ca-4318-8fb0-f680af704129",
   "metadata": {},
   "outputs": [],
   "source": [
    "iv.groupby('INSTTYPE').count()"
   ]
  },
  {
   "cell_type": "code",
   "execution_count": 11,
   "id": "db16a0a1-fb0a-4c2f-8747-ddf1b80bf42a",
   "metadata": {},
   "outputs": [],
   "source": [
    "# iv.loc[iv['INSTTYPE']=='D'].head(10)"
   ]
  },
  {
   "cell_type": "code",
   "execution_count": 12,
   "id": "5a4f7c9f",
   "metadata": {},
   "outputs": [],
   "source": [
    "wcs = wc.join(ws, how='inner')\n",
    "#result = wcs.loc[~wcs['Disabled']].copy()\n",
    "#result.to_csv('workcontext.csv')\n",
    "wcs.loc[(wc['OwnerId']=='ZH0085') & wc['SettingId'].str.contains('AG_US_ANN')]"
   ]
  },
  {
   "cell_type": "code",
   "execution_count": null,
   "id": "7143238e-e007-4471-bcd9-f10f92a777b3",
   "metadata": {},
   "outputs": [],
   "source": [
    "iv = pd.read_csv('config_instvars.csv')\n",
    "iv.loc[iv['NAAM'] == 'AG_US_ANN']"
   ]
  }
 ],
 "metadata": {
  "kernelspec": {
   "display_name": "develop",
   "language": "python",
   "name": "develop"
  },
  "language_info": {
   "codemirror_mode": {
    "name": "ipython",
    "version": 3
   },
   "file_extension": ".py",
   "mimetype": "text/x-python",
   "name": "python",
   "nbconvert_exporter": "python",
   "pygments_lexer": "ipython3",
   "version": "3.10.12"
  },
  "varInspector": {
   "cols": {
    "lenName": 16,
    "lenType": 16,
    "lenVar": 40
   },
   "kernels_config": {
    "python": {
     "delete_cmd_postfix": "",
     "delete_cmd_prefix": "del ",
     "library": "var_list.py",
     "varRefreshCmd": "print(var_dic_list())"
    },
    "r": {
     "delete_cmd_postfix": ") ",
     "delete_cmd_prefix": "rm(",
     "library": "var_list.r",
     "varRefreshCmd": "cat(var_dic_list()) "
    }
   },
   "types_to_exclude": [
    "module",
    "function",
    "builtin_function_or_method",
    "instance",
    "_Feature"
   ],
   "window_display": false
  }
 },
 "nbformat": 4,
 "nbformat_minor": 5
}