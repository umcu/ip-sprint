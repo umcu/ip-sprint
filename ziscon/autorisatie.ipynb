{
 "cells": [
  {
   "cell_type": "code",
   "execution_count": null,
   "id": "d2cdf87c",
   "metadata": {},
   "outputs": [],
   "source": [
    "from cdag import Graph, load_data, read_table\n",
    "import pandas as pd"
   ]
  },
  {
   "cell_type": "code",
   "execution_count": null,
   "id": "8498d87d",
   "metadata": {},
   "outputs": [],
   "source": [
    "wc = pd.read_csv('config_workcontext.csv')\n",
    "wc.set_index('Id', inplace=True)\n",
    "ws = pd.read_csv('config_wcsegments.csv')\n",
    "ws.set_index('ConfiguredWorkContextId', inplace=True)"
   ]
  },
  {
   "cell_type": "code",
   "execution_count": null,
   "id": "45eab1c2",
   "metadata": {},
   "outputs": [],
   "source": [
    "gr = pd.read_csv('ziscon_groepen.csv')\n",
    "gr.loc[gr['CODE'] == 'ZH1294']"
   ]
  },
  {
   "cell_type": "code",
   "execution_count": null,
   "id": "94472931",
   "metadata": {},
   "outputs": [],
   "source": [
    "iv = pd.read_csv('config_instvars.csv')\n",
    "ane=iv.loc[(iv['NAAM'] == 'AG_US_ANN') & iv['OWNER'].str.contains('ANE')].copy()"
   ]
  },
  {
   "cell_type": "code",
   "execution_count": null,
   "id": "f7ce432a",
   "metadata": {},
   "outputs": [],
   "source": [
    "x = ane.to_dict('records')\n",
    "x[0]['VALUE']"
   ]
  },
  {
   "cell_type": "code",
   "execution_count": null,
   "id": "5a4f7c9f",
   "metadata": {},
   "outputs": [],
   "source": [
    "wcs = wc.join(ws, how='inner')\n",
    "#result = wcs.loc[~wcs['Disabled']].copy()\n",
    "#result.to_csv('workcontext.csv')\n",
    "wcs.loc[(wc['OwnerId']=='ZH0085') & wc['SettingId'].str.contains('AG_US')]"
   ]
  }
 ],
 "metadata": {
  "kernelspec": {
   "display_name": "Python 3",
   "language": "python",
   "name": "python3"
  },
  "language_info": {
   "codemirror_mode": {
    "name": "ipython",
    "version": 3
   },
   "file_extension": ".py",
   "mimetype": "text/x-python",
   "name": "python",
   "nbconvert_exporter": "python",
   "pygments_lexer": "ipython3",
   "version": "3.10.12"
  },
  "varInspector": {
   "cols": {
    "lenName": 16,
    "lenType": 16,
    "lenVar": 40
   },
   "kernels_config": {
    "python": {
     "delete_cmd_postfix": "",
     "delete_cmd_prefix": "del ",
     "library": "var_list.py",
     "varRefreshCmd": "print(var_dic_list())"
    },
    "r": {
     "delete_cmd_postfix": ") ",
     "delete_cmd_prefix": "rm(",
     "library": "var_list.r",
     "varRefreshCmd": "cat(var_dic_list()) "
    }
   },
   "types_to_exclude": [
    "module",
    "function",
    "builtin_function_or_method",
    "instance",
    "_Feature"
   ],
   "window_display": false
  }
 },
 "nbformat": 4,
 "nbformat_minor": 5
}
