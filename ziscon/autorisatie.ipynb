{
 "cells": [
  {
   "cell_type": "code",
   "execution_count": 1,
   "id": "d2cdf87c",
   "metadata": {},
   "outputs": [],
   "source": [
    "from cdag import Graph, load_data, read_table\n",
    "import re, pandas as pd"
   ]
  },
  {
   "cell_type": "code",
   "execution_count": 7,
   "id": "2dcd6170-9cc7-47ab-92bf-d2b5a28f7889",
   "metadata": {},
   "outputs": [],
   "source": [
    "tg = pd.read_csv('chipsoft_logic_table_guids.csv', sep=';')\n",
    "table_name = {}\n",
    "for elt in tg.to_dict('records'):\n",
    "    table_name[elt['classguid']] = elt['classid']"
   ]
  },
  {
   "cell_type": "code",
   "execution_count": 8,
   "id": "ffa3aec5-624a-478a-a65d-3f46e9d490f3",
   "metadata": {},
   "outputs": [],
   "source": [
    "iv = pd.read_csv('config_instvars.csv')\n",
    "iv['VALUE'] = iv['VALUE'].fillna('X\"\"')"
   ]
  },
  {
   "cell_type": "code",
   "execution_count": 11,
   "id": "523b6b7c-e9b3-45a0-996f-e787f7b4d6d6",
   "metadata": {},
   "outputs": [],
   "source": [
    "# iv.groupby('INSTTYPE').count()\n",
    "# C: 5671, D: 351, G: 6382, L: 70606, U: 904852\n",
    "# type L has only a few possibilities for VALUE: LT\u00a9, LTTTTTT, CT\n",
    "# type U has more options for value (including XML strings) but appears to be related to individual user rights\n",
    "# types D and G always have owner=CHIPSOFT"
   ]
  },
  {
   "cell_type": "code",
   "execution_count": 9,
   "id": "4d9f7efe-5cda-4854-ae7d-1ea4cdba8c06",
   "metadata": {},
   "outputs": [],
   "source": [
    "type_c = iv.loc[iv['INSTTYPE'] == 'C']\n",
    "# type_c.head(10)"
   ]
  },
  {
   "cell_type": "code",
   "execution_count": 35,
   "id": "7d4069e7-2f54-4d70-a5ff-73c3080b40d4",
   "metadata": {},
   "outputs": [],
   "source": [
    "# Unicode dingbats, open and closed circled digits\n",
    "# open1, close1 = '\\u2780', 'u2776'\n",
    "# open2, close2 = '\\u2781', 'u2777'\n",
    "# open3, close3 = '\\u2782', 'u2778'\n",
    "level1_rx = re.compile(r'\"([\\u2782\\u2778\\u2781\\u2777\\x20\\x21\\x23-\\x7E]+?)\"')\n",
    "level2_rx = re.compile(r'\"\"([\\u2782\\u2778\\x20\\x21\\x23-\\x7E]+?)\"\"')\n",
    "level3_rx = re.compile(r'\"\"\"\"([\\x20\\x21\\x23-\\x7E]+?)\"\"\"\"')\n",
    "def tokenize(s):\n",
    "    s3 = level3_rx.sub('\\u2782\\g<1>\\u2778', s)\n",
    "    s2 = level2_rx.sub('\\u2781\\g<1>\\u2777', s3)\n",
    "    s1 = level1_rx.sub('\\u2780\\g<1>\\u2776', s2)\n",
    "    return s1"
   ]
  },
  {
   "cell_type": "code",
   "execution_count": 36,
   "id": "dbb62403-4a32-4746-b9ad-4a01e172b6e9",
   "metadata": {},
   "outputs": [],
   "source": [
    "occurring, missing = {}, set()\n",
    "guid_rx = re.compile(r'\\{[A-Z0-9-]+?\\}')\n",
    "for elt in type_c.to_dict('records'):\n",
    "    value = elt['VALUE']\n",
    "    matches = guid_rx.findall(value)\n",
    "    if len(matches) > 1:\n",
    "        test = value\n",
    "        break\n",
    "print(test)\n",
    "print('----')\n",
    "print(tokenize(test))"
   ]
  },
  {
   "cell_type": "code",
   "execution_count": null,
   "id": "6f11fc34-1e63-4667-b8e3-82981ba20943",
   "metadata": {},
   "outputs": [],
   "source": [
    "wc = pd.read_csv('config_workcontext.csv')\n",
    "wc.set_index('Id', inplace=True)\n",
    "ws = pd.read_csv('config_wcsegments.csv')\n",
    "ws.set_index('ConfiguredWorkContextId', inplace=True)"
   ]
  },
  {
   "cell_type": "code",
   "execution_count": null,
   "id": "7aedcaa9-90eb-46a2-b93e-8f94c98e6487",
   "metadata": {},
   "outputs": [],
   "source": [
    "gr = pd.read_csv('ziscon_groepen.csv')"
   ]
  },
  {
   "cell_type": "code",
   "execution_count": null,
   "id": "1f424e43-79f1-44b2-ba55-da5136ce81d3",
   "metadata": {},
   "outputs": [],
   "source": [
    "us = pd.read_csv('ziscon_user.csv',\n",
    "                 dtype={'FUNKTIE':'string', 'BEHEERDER':'boolean', 'WACHTWOORD':'string',\n",
    "                        'DISABLED': 'boolean', 'UZINR': 'string', 'ROLE': 'string', 'WRONGCHECKS': 'string'})"
   ]
  },
  {
   "cell_type": "code",
   "execution_count": 12,
   "id": "5a4f7c9f",
   "metadata": {},
   "outputs": [],
   "source": [
    "wcs = wc.join(ws, how='inner')\n",
    "#result = wcs.loc[~wcs['Disabled']].copy()\n",
    "#result.to_csv('workcontext.csv')\n",
    "wcs.loc[(wc['OwnerId']=='ZH0085') & wc['SettingId'].str.contains('AG_US_ANN')]"
   ]
  }
 ],
 "metadata": {
  "kernelspec": {
   "display_name": "Python 3 (ipykernel)",
   "language": "python",
   "name": "python3"
  },
  "language_info": {
   "codemirror_mode": {
    "name": "ipython",
    "version": 3
   },
   "file_extension": ".py",
   "mimetype": "text/x-python",
   "name": "python",
   "nbconvert_exporter": "python",
   "pygments_lexer": "ipython3",
   "version": "3.10.9"
  },
  "varInspector": {
   "cols": {
    "lenName": 16,
    "lenType": 16,
    "lenVar": 40
   },
   "kernels_config": {
    "python": {
     "delete_cmd_postfix": "",
     "delete_cmd_prefix": "del ",
     "library": "var_list.py",
     "varRefreshCmd": "print(var_dic_list())"
    },
    "r": {
     "delete_cmd_postfix": ") ",
     "delete_cmd_prefix": "rm(",
     "library": "var_list.r",
     "varRefreshCmd": "cat(var_dic_list()) "
    }
   },
   "types_to_exclude": [
    "module",
    "function",
    "builtin_function_or_method",
    "instance",
    "_Feature"
   ],
   "window_display": false
  }
 },
 "nbformat": 4,
 "nbformat_minor": 5
}