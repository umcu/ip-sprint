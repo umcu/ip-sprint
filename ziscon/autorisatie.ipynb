{
 "cells": [
  {
   "cell_type": "code",
   "execution_count": 1,
   "id": "d2cdf87c",
   "metadata": {},
   "outputs": [],
   "source": [
    "from cdag import Graph, load_data, read_table\n",
    "import pandas as pd"
   ]
  },
  {
   "cell_type": "code",
   "execution_count": 2,
   "id": "8498d87d",
   "metadata": {},
   "outputs": [],
   "source": [
    "wc = pd.read_csv('config_workcontext.csv')\n",
    "wc.set_index('Id', inplace=True)\n",
    "ws = pd.read_csv('config_wcsegments.csv')\n",
    "ws.set_index('ConfiguredWorkContextId', inplace=True)"
   ]
  },
  {
   "cell_type": "code",
   "execution_count": 3,
   "id": "45eab1c2",
   "metadata": {},
   "outputs": [
    {
     "data": {
      "text/html": [
       "<div>\n",
       "<style scoped>\n",
       "    .dataframe tbody tr th:only-of-type {\n",
       "        vertical-align: middle;\n",
       "    }\n",
       "\n",
       "    .dataframe tbody tr th {\n",
       "        vertical-align: top;\n",
       "    }\n",
       "\n",
       "    .dataframe thead th {\n",
       "        text-align: right;\n",
       "    }\n",
       "</style>\n",
       "<table border=\"1\" class=\"dataframe\">\n",
       "  <thead>\n",
       "    <tr style=\"text-align: right;\">\n",
       "      <th></th>\n",
       "      <th>CODE</th>\n",
       "      <th>SEARCHCODE</th>\n",
       "      <th>OMSCHR</th>\n",
       "      <th>MEMO</th>\n",
       "      <th>SOORT</th>\n",
       "      <th>BEDRIJF</th>\n",
       "    </tr>\n",
       "  </thead>\n",
       "  <tbody>\n",
       "    <tr>\n",
       "      <th>2160</th>\n",
       "      <td>ZH1294</td>\n",
       "      <td>DBHHEMO</td>\n",
       "      <td>Dagbehandeling Verpleegkundige Hematologie (B&amp;O)</td>\n",
       "      <td>Cluster aangemaakt van de verpleegafdeling dag...</td>\n",
       "      <td>ZH00000017</td>\n",
       "      <td>NaN</td>\n",
       "    </tr>\n",
       "  </tbody>\n",
       "</table>\n",
       "</div>"
      ],
      "text/plain": [
       "        CODE SEARCHCODE                                            OMSCHR  \\\n",
       "2160  ZH1294    DBHHEMO  Dagbehandeling Verpleegkundige Hematologie (B&O)   \n",
       "\n",
       "                                                   MEMO       SOORT  BEDRIJF  \n",
       "2160  Cluster aangemaakt van de verpleegafdeling dag...  ZH00000017      NaN  "
      ]
     },
     "execution_count": 3,
     "metadata": {},
     "output_type": "execute_result"
    }
   ],
   "source": [
    "gr = pd.read_csv('ziscon_groepen.csv')\n",
    "gr.loc[gr['CODE'] == 'ZH1294']"
   ]
  },
  {
   "cell_type": "code",
   "execution_count": 4,
   "id": "d529c772-9b5c-4cd3-8f3b-1b7fa796e1d5",
   "metadata": {},
   "outputs": [],
   "source": [
    "#us = pd.read_csv('ziscon_user.csv',\n",
    "#               dtype={'FUNKTIE':'string', 'BEHEERDER':'boolean', 'WACHTWOORD':'string', 'DISABLED': 'boolean',\n",
    "#                     'UZINR': 'string', 'ROLE': 'string', 'WRONGCHECKS': 'string'})"
   ]
  },
  {
   "cell_type": "code",
   "execution_count": 5,
   "id": "2dcd6170-9cc7-47ab-92bf-d2b5a28f7889",
   "metadata": {},
   "outputs": [],
   "source": [
    "tg = pd.read_csv('chipsoft_logic_table_guids.csv')\n",
    "table_name = {}\n",
    "for elt in tg.to_dict('records'):\n",
    "    table_name[elt['classguid']] = elt['classid']"
   ]
  },
  {
   "cell_type": "code",
   "execution_count": 6,
   "id": "94472931",
   "metadata": {},
   "outputs": [],
   "source": [
    "iv = pd.read_csv('config_instvars.csv')\n",
    "ane = iv.loc[iv['OWNER'].str.contains('SPEANE')].copy()"
   ]
  },
  {
   "cell_type": "code",
   "execution_count": 7,
   "id": "ec982072-83eb-4320-b22c-133d23658552",
   "metadata": {},
   "outputs": [
    {
     "data": {
      "text/html": [
       "<div>\n",
       "<style scoped>\n",
       "    .dataframe tbody tr th:only-of-type {\n",
       "        vertical-align: middle;\n",
       "    }\n",
       "\n",
       "    .dataframe tbody tr th {\n",
       "        vertical-align: top;\n",
       "    }\n",
       "\n",
       "    .dataframe thead th {\n",
       "        text-align: right;\n",
       "    }\n",
       "</style>\n",
       "<table border=\"1\" class=\"dataframe\">\n",
       "  <thead>\n",
       "    <tr style=\"text-align: right;\">\n",
       "      <th></th>\n",
       "      <th>NAAM</th>\n",
       "      <th>OWNER</th>\n",
       "      <th>INSTTYPE</th>\n",
       "      <th>SPECCODE</th>\n",
       "      <th>VALUE</th>\n",
       "      <th>ETD_STATUS</th>\n",
       "    </tr>\n",
       "  </thead>\n",
       "  <tbody>\n",
       "    <tr>\n",
       "      <th>4558</th>\n",
       "      <td>__CSSTD__CSSTD__</td>\n",
       "      <td>@GSPEANE</td>\n",
       "      <td>C</td>\n",
       "      <td>_CSSTDCSSTD_</td>\n",
       "      <td>C\"6,{272C4B94-7648-47BC-A739-435EC9BDBED5},F,C...</td>\n",
       "      <td>NaN</td>\n",
       "    </tr>\n",
       "    <tr>\n",
       "      <th>4559</th>\n",
       "      <td>AG_US_ANN</td>\n",
       "      <td>@GSPEANE</td>\n",
       "      <td>C</td>\n",
       "      <td>NaN</td>\n",
       "      <td>C\"0,{4C309B34-05C6-491E-929B-CEA51ED55FD7},F,C...</td>\n",
       "      <td>NaN</td>\n",
       "    </tr>\n",
       "    <tr>\n",
       "      <th>4560</th>\n",
       "      <td>AG_US_BEK</td>\n",
       "      <td>@GSPEANE</td>\n",
       "      <td>C</td>\n",
       "      <td>NaN</td>\n",
       "      <td>C\"0,{4C309B34-05C6-491E-929B-CEA51ED55FD7},F,\"...</td>\n",
       "      <td>NaN</td>\n",
       "    </tr>\n",
       "    <tr>\n",
       "      <th>4561</th>\n",
       "      <td>AG_US_BERAFD</td>\n",
       "      <td>@GSPEANE</td>\n",
       "      <td>C</td>\n",
       "      <td>NaN</td>\n",
       "      <td>C\"0,{4C309B34-05C6-491E-929B-CEA51ED55FD7},F,C...</td>\n",
       "      <td>NaN</td>\n",
       "    </tr>\n",
       "    <tr>\n",
       "      <th>4562</th>\n",
       "      <td>AG_US_MAAK</td>\n",
       "      <td>@GSPEANE</td>\n",
       "      <td>C</td>\n",
       "      <td>NaN</td>\n",
       "      <td>C\"0,{4C309B34-05C6-491E-929B-CEA51ED55FD7},F,C...</td>\n",
       "      <td>NaN</td>\n",
       "    </tr>\n",
       "  </tbody>\n",
       "</table>\n",
       "</div>"
      ],
      "text/plain": [
       "                  NAAM     OWNER INSTTYPE      SPECCODE  \\\n",
       "4558  __CSSTD__CSSTD__  @GSPEANE        C  _CSSTDCSSTD_   \n",
       "4559         AG_US_ANN  @GSPEANE        C           NaN   \n",
       "4560         AG_US_BEK  @GSPEANE        C           NaN   \n",
       "4561      AG_US_BERAFD  @GSPEANE        C           NaN   \n",
       "4562        AG_US_MAAK  @GSPEANE        C           NaN   \n",
       "\n",
       "                                                  VALUE  ETD_STATUS  \n",
       "4558  C\"6,{272C4B94-7648-47BC-A739-435EC9BDBED5},F,C...         NaN  \n",
       "4559  C\"0,{4C309B34-05C6-491E-929B-CEA51ED55FD7},F,C...         NaN  \n",
       "4560  C\"0,{4C309B34-05C6-491E-929B-CEA51ED55FD7},F,\"...         NaN  \n",
       "4561  C\"0,{4C309B34-05C6-491E-929B-CEA51ED55FD7},F,C...         NaN  \n",
       "4562  C\"0,{4C309B34-05C6-491E-929B-CEA51ED55FD7},F,C...         NaN  "
      ]
     },
     "execution_count": 7,
     "metadata": {},
     "output_type": "execute_result"
    }
   ],
   "source": [
    "ane.head()"
   ]
  },
  {
   "cell_type": "code",
   "execution_count": 8,
   "id": "d603edb0-368a-48c2-953a-82addcd0eabf",
   "metadata": {},
   "outputs": [],
   "source": [
    "occurring, missing = {}, set()\n",
    "for elt in ane.to_dict('records'):\n",
    "    try:\n",
    "        guid = elt['VALUE'][0:-2].removeprefix('C\"').replace('\"\"', '\"').split(',')[1]\n",
    "    except IndexError:\n",
    "        #print(elt['VALUE'])\n",
    "        continue\n",
    "    name = table_name.get(guid, '<unknown>')\n",
    "    if name == '<unknown>':\n",
    "        missing.add(name)\n",
    "    else:\n",
    "        occurring[guid] = name\n",
    "\n",
    "#for key, value in occurring:\n",
    "#    print(f\"{key}: {value}\")\n",
    "#for key in missing:\n",
    "#    print(key)"
   ]
  },
  {
   "cell_type": "code",
   "execution_count": 9,
   "id": "7a89b25d-e8f8-4776-bbad-908436652dd2",
   "metadata": {},
   "outputs": [
    {
     "data": {
      "text/plain": [
       "'CSZISLIB_AANVAFD'"
      ]
     },
     "execution_count": 9,
     "metadata": {},
     "output_type": "execute_result"
    }
   ],
   "source": [
    "value = ane.to_dict('records')[0]['VALUE']\n",
    "elts = value[0:-2].removeprefix('C\"').replace('\"\"', '\"').split(',')\n",
    "table_name[elts[1]]"
   ]
  },
  {
   "cell_type": "code",
   "execution_count": 10,
   "id": "5d76e5a0-05ca-4318-8fb0-f680af704129",
   "metadata": {},
   "outputs": [
    {
     "data": {
      "text/html": [
       "<div>\n",
       "<style scoped>\n",
       "    .dataframe tbody tr th:only-of-type {\n",
       "        vertical-align: middle;\n",
       "    }\n",
       "\n",
       "    .dataframe tbody tr th {\n",
       "        vertical-align: top;\n",
       "    }\n",
       "\n",
       "    .dataframe thead th {\n",
       "        text-align: right;\n",
       "    }\n",
       "</style>\n",
       "<table border=\"1\" class=\"dataframe\">\n",
       "  <thead>\n",
       "    <tr style=\"text-align: right;\">\n",
       "      <th></th>\n",
       "      <th>NAAM</th>\n",
       "      <th>OWNER</th>\n",
       "      <th>SPECCODE</th>\n",
       "      <th>VALUE</th>\n",
       "      <th>ETD_STATUS</th>\n",
       "    </tr>\n",
       "    <tr>\n",
       "      <th>INSTTYPE</th>\n",
       "      <th></th>\n",
       "      <th></th>\n",
       "      <th></th>\n",
       "      <th></th>\n",
       "      <th></th>\n",
       "    </tr>\n",
       "  </thead>\n",
       "  <tbody>\n",
       "    <tr>\n",
       "      <th>C</th>\n",
       "      <td>5671</td>\n",
       "      <td>5671</td>\n",
       "      <td>2001</td>\n",
       "      <td>5671</td>\n",
       "      <td>0</td>\n",
       "    </tr>\n",
       "    <tr>\n",
       "      <th>D</th>\n",
       "      <td>351</td>\n",
       "      <td>351</td>\n",
       "      <td>235</td>\n",
       "      <td>351</td>\n",
       "      <td>0</td>\n",
       "    </tr>\n",
       "    <tr>\n",
       "      <th>G</th>\n",
       "      <td>6382</td>\n",
       "      <td>6383</td>\n",
       "      <td>4516</td>\n",
       "      <td>6379</td>\n",
       "      <td>0</td>\n",
       "    </tr>\n",
       "    <tr>\n",
       "      <th>L</th>\n",
       "      <td>70606</td>\n",
       "      <td>70606</td>\n",
       "      <td>47706</td>\n",
       "      <td>70606</td>\n",
       "      <td>0</td>\n",
       "    </tr>\n",
       "    <tr>\n",
       "      <th>U</th>\n",
       "      <td>904852</td>\n",
       "      <td>904852</td>\n",
       "      <td>269970</td>\n",
       "      <td>904852</td>\n",
       "      <td>0</td>\n",
       "    </tr>\n",
       "  </tbody>\n",
       "</table>\n",
       "</div>"
      ],
      "text/plain": [
       "            NAAM   OWNER  SPECCODE   VALUE  ETD_STATUS\n",
       "INSTTYPE                                              \n",
       "C           5671    5671      2001    5671           0\n",
       "D            351     351       235     351           0\n",
       "G           6382    6383      4516    6379           0\n",
       "L          70606   70606     47706   70606           0\n",
       "U         904852  904852    269970  904852           0"
      ]
     },
     "execution_count": 10,
     "metadata": {},
     "output_type": "execute_result"
    }
   ],
   "source": [
    "iv.groupby('INSTTYPE').count()"
   ]
  },
  {
   "cell_type": "code",
   "execution_count": 11,
   "id": "db16a0a1-fb0a-4c2f-8747-ddf1b80bf42a",
   "metadata": {},
   "outputs": [],
   "source": [
    "# iv.loc[iv['INSTTYPE']=='D'].head(10)"
   ]
  },
  {
   "cell_type": "code",
   "execution_count": 12,
   "id": "5a4f7c9f",
   "metadata": {},
   "outputs": [
    {
     "data": {
      "text/html": [
       "<div>\n",
       "<style scoped>\n",
       "    .dataframe tbody tr th:only-of-type {\n",
       "        vertical-align: middle;\n",
       "    }\n",
       "\n",
       "    .dataframe tbody tr th {\n",
       "        vertical-align: top;\n",
       "    }\n",
       "\n",
       "    .dataframe thead th {\n",
       "        text-align: right;\n",
       "    }\n",
       "</style>\n",
       "<table border=\"1\" class=\"dataframe\">\n",
       "  <thead>\n",
       "    <tr style=\"text-align: right;\">\n",
       "      <th></th>\n",
       "      <th>OwnerId</th>\n",
       "      <th>OwnerType</th>\n",
       "      <th>SettingId</th>\n",
       "      <th>SettingSubId</th>\n",
       "      <th>SegmentClassId</th>\n",
       "      <th>ContextType</th>\n",
       "      <th>Inverted</th>\n",
       "      <th>SegmentId</th>\n",
       "      <th>Disabled</th>\n",
       "    </tr>\n",
       "    <tr>\n",
       "      <th>Id</th>\n",
       "      <th></th>\n",
       "      <th></th>\n",
       "      <th></th>\n",
       "      <th></th>\n",
       "      <th></th>\n",
       "      <th></th>\n",
       "      <th></th>\n",
       "      <th></th>\n",
       "      <th></th>\n",
       "    </tr>\n",
       "  </thead>\n",
       "  <tbody>\n",
       "    <tr>\n",
       "      <th>ZH00001509</th>\n",
       "      <td>ZH0085</td>\n",
       "      <td>G</td>\n",
       "      <td>AG_US_ANN</td>\n",
       "      <td>NaN</td>\n",
       "      <td>AGENDA_AGENDA</td>\n",
       "      <td>0</td>\n",
       "      <td>False</td>\n",
       "      <td>ZH0010</td>\n",
       "      <td>False</td>\n",
       "    </tr>\n",
       "    <tr>\n",
       "      <th>ZH00001509</th>\n",
       "      <td>ZH0085</td>\n",
       "      <td>G</td>\n",
       "      <td>AG_US_ANN</td>\n",
       "      <td>NaN</td>\n",
       "      <td>AGENDA_AGENDA</td>\n",
       "      <td>0</td>\n",
       "      <td>False</td>\n",
       "      <td>ZH0131</td>\n",
       "      <td>False</td>\n",
       "    </tr>\n",
       "    <tr>\n",
       "      <th>ZH00001509</th>\n",
       "      <td>ZH0085</td>\n",
       "      <td>G</td>\n",
       "      <td>AG_US_ANN</td>\n",
       "      <td>NaN</td>\n",
       "      <td>AGENDA_AGENDA</td>\n",
       "      <td>0</td>\n",
       "      <td>False</td>\n",
       "      <td>ZH0400</td>\n",
       "      <td>True</td>\n",
       "    </tr>\n",
       "    <tr>\n",
       "      <th>ZH00001509</th>\n",
       "      <td>ZH0085</td>\n",
       "      <td>G</td>\n",
       "      <td>AG_US_ANN</td>\n",
       "      <td>NaN</td>\n",
       "      <td>AGENDA_AGENDA</td>\n",
       "      <td>0</td>\n",
       "      <td>False</td>\n",
       "      <td>ZH0414</td>\n",
       "      <td>True</td>\n",
       "    </tr>\n",
       "    <tr>\n",
       "      <th>ZH00001509</th>\n",
       "      <td>ZH0085</td>\n",
       "      <td>G</td>\n",
       "      <td>AG_US_ANN</td>\n",
       "      <td>NaN</td>\n",
       "      <td>AGENDA_AGENDA</td>\n",
       "      <td>0</td>\n",
       "      <td>False</td>\n",
       "      <td>ZH0128</td>\n",
       "      <td>False</td>\n",
       "    </tr>\n",
       "  </tbody>\n",
       "</table>\n",
       "</div>"
      ],
      "text/plain": [
       "           OwnerId OwnerType  SettingId SettingSubId SegmentClassId  \\\n",
       "Id                                                                    \n",
       "ZH00001509  ZH0085         G  AG_US_ANN          NaN  AGENDA_AGENDA   \n",
       "ZH00001509  ZH0085         G  AG_US_ANN          NaN  AGENDA_AGENDA   \n",
       "ZH00001509  ZH0085         G  AG_US_ANN          NaN  AGENDA_AGENDA   \n",
       "ZH00001509  ZH0085         G  AG_US_ANN          NaN  AGENDA_AGENDA   \n",
       "ZH00001509  ZH0085         G  AG_US_ANN          NaN  AGENDA_AGENDA   \n",
       "\n",
       "            ContextType  Inverted SegmentId  Disabled  \n",
       "Id                                                     \n",
       "ZH00001509            0     False    ZH0010     False  \n",
       "ZH00001509            0     False    ZH0131     False  \n",
       "ZH00001509            0     False    ZH0400      True  \n",
       "ZH00001509            0     False    ZH0414      True  \n",
       "ZH00001509            0     False    ZH0128     False  "
      ]
     },
     "execution_count": 12,
     "metadata": {},
     "output_type": "execute_result"
    }
   ],
   "source": [
    "wcs = wc.join(ws, how='inner')\n",
    "#result = wcs.loc[~wcs['Disabled']].copy()\n",
    "#result.to_csv('workcontext.csv')\n",
    "wcs.loc[(wc['OwnerId']=='ZH0085') & wc['SettingId'].str.contains('AG_US_ANN')]"
   ]
  },
  {
   "cell_type": "code",
   "execution_count": null,
   "id": "7143238e-e007-4471-bcd9-f10f92a777b3",
   "metadata": {},
   "outputs": [],
   "source": [
    "iv = pd.read_csv('config_instvars.csv')\n",
    "iv.loc[iv['NAAM'] == 'AG_US_ANN']"
   ]
  }
 ],
 "metadata": {
  "kernelspec": {
   "display_name": "develop",
   "language": "python",
   "name": "develop"
  },
  "language_info": {
   "codemirror_mode": {
    "name": "ipython",
    "version": 3
   },
   "file_extension": ".py",
   "mimetype": "text/x-python",
   "name": "python",
   "nbconvert_exporter": "python",
   "pygments_lexer": "ipython3",
   "version": "3.10.12"
  },
  "varInspector": {
   "cols": {
    "lenName": 16,
    "lenType": 16,
    "lenVar": 40
   },
   "kernels_config": {
    "python": {
     "delete_cmd_postfix": "",
     "delete_cmd_prefix": "del ",
     "library": "var_list.py",
     "varRefreshCmd": "print(var_dic_list())"
    },
    "r": {
     "delete_cmd_postfix": ") ",
     "delete_cmd_prefix": "rm(",
     "library": "var_list.r",
     "varRefreshCmd": "cat(var_dic_list()) "
    }
   },
   "types_to_exclude": [
    "module",
    "function",
    "builtin_function_or_method",
    "instance",
    "_Feature"
   ],
   "window_display": false
  }
 },
 "nbformat": 4,
 "nbformat_minor": 5
}
