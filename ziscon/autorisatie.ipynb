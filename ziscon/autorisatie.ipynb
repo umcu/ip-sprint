{
 "cells": [
  {
   "cell_type": "code",
   "execution_count": 62,
   "id": "d2cdf87c",
   "metadata": {},
   "outputs": [],
   "source": [
    "from cdag import Graph, load_data, read_table\n",
    "from personal import database_connection\n",
    "import re, pandas as pd"
   ]
  },
  {
   "cell_type": "code",
   "execution_count": 63,
   "id": "4bd92cd6-c0a5-4b55-a086-3d7f4c323bce",
   "metadata": {},
   "outputs": [],
   "source": [
    "# read HiX tables\n",
    "# method 1: from CSV files\n",
    "# method 2: from database\n",
    "# connection = database_connection('hixacceptatie')\n",
    "# iv = pd.read_sql(sql=f\"select * from [hix_acc].[dbo].[config_instvars];\", con=connection\n",
    "iv = pd.read_csv('config_instvars.csv')\n",
    "iv['VALUE'] = iv['VALUE'].fillna('X\"\"')\n",
    "# iv.groupby('INSTTYPE').count()\n",
    "# C: 5671, D: 351, G: 6382, L: 70606, U: 904852\n",
    "# type L has only a few possibilities for VALUE: LT\u00a9, LTTTTTT, CT\n",
    "# type U has more options for value (including XML strings)\n",
    "# types D and G always have owner=CHIPSOFT"
   ]
  },
  {
   "cell_type": "code",
   "execution_count": 64,
   "id": "ac974496-ab17-453c-b951-3657357860e6",
   "metadata": {},
   "outputs": [],
   "source": [
    "# read HiX tables (continued)\n",
    "wc = pd.read_csv('config_workcontext.csv')\n",
    "wc.set_index('Id', inplace=True)\n",
    "ws = pd.read_csv('config_wcsegments.csv')\n",
    "ws.set_index('ConfiguredWorkContextId', inplace=True)\n",
    "wsa = ws.loc[ws['Disabled'] == False]\n",
    "wcs = wc.join(wsa, how='inner')\n",
    "gr = pd.read_csv('ziscon_groepen.csv')\n",
    "#us = pd.read_csv('ziscon_user.csv',\n",
    "#                 dtype={'FUNKTIE':'string', 'BEHEERDER':'boolean', 'WACHTWOORD':'string',\n",
    "#                        'DISABLED': 'boolean', 'UZINR': 'string', 'ROLE': 'string', 'WRONGCHECKS': 'string'})"
   ]
  },
  {
   "cell_type": "code",
   "execution_count": 65,
   "id": "2dcd6170-9cc7-47ab-92bf-d2b5a28f7889",
   "metadata": {},
   "outputs": [],
   "source": [
    "# read reference table\n",
    "tg = pd.read_csv('chipsoft_logic_table_guids.csv', sep=';')\n",
    "table_name = {}\n",
    "for elt in tg.to_dict('records'):\n",
    "    table_name[elt['classguid']] = elt['classid']"
   ]
  },
  {
   "cell_type": "code",
   "execution_count": 82,
   "id": "23efdbc4-8740-483a-9aa2-0eea58626d49",
   "metadata": {},
   "outputs": [],
   "source": [
    "guid_rx = re.compile(r'\\{[A-Z0-9-]+?\\}')\n",
    "def resolve_guid(match):\n",
    "    return table_name.get(match.group(0), '<unknown>')"
   ]
  },
  {
   "cell_type": "code",
   "execution_count": 80,
   "id": "7d4069e7-2f54-4d70-a5ff-73c3080b40d4",
   "metadata": {},
   "outputs": [],
   "source": [
    "# Unicode dingbats, open and closed circled digits\n",
    "OD1, CD1 = '\\u2780', '\\u2776'\n",
    "OD2, CD2 = '\\u2781', '\\u2777'\n",
    "OD3, CD3 = '\\u2782', '\\u2778'\n",
    "level1_rx = re.compile(r'\"([\\u2782\\u2778\\u2781\\u2777\\x20\\x21\\x23-\\x7E]+?)\"')\n",
    "level2_rx = re.compile(r'\"\"([\\u2782\\u2778\\x20\\x21\\x23-\\x7E]+?)\"\"')\n",
    "level3_rx = re.compile(r'\"\"\"\"([\\x20\\x21\\x23-\\x7E]+?)\"\"\"\"')\n",
    "\n",
    "def tokenize(s): \n",
    "    if s.startswith('C'):\n",
    "        s3 = level3_rx.sub('\\u2782\\g<1>\\u2778', s.lstrip('C').rstrip('\\x01\\u00a9'))\n",
    "        s2 = level2_rx.sub('\\u2781\\g<1>\\u2777', s3)\n",
    "        s1 = level1_rx.sub('\\u2780\\g<1>\\u2776', s2)\n",
    "        return s1\n",
    "    else:\n",
    "        return s\n",
    "    \n",
    "def parse(s):\n",
    "    t = tokenize(guid_rx.sub(resolve_guid, s))\n",
    "    if t.startswith('\\u2780') and t.endswith('\\u2776'):\n",
    "        # TODO: handle levels 2 and 3\n",
    "        return t[1:-1].split('\\u2776,\\u2780')\n",
    "    else:\n",
    "        print(f\"{t}: begin={t[0]} end={t[-1]}\")\n",
    "        return []"
   ]
  },
  {
   "cell_type": "code",
   "execution_count": 101,
   "id": "20fd7cf7-02bf-4282-9f6b-116135de1e7a",
   "metadata": {},
   "outputs": [],
   "source": [
    "# x = iv.loc[(iv['OWNER'] == '@GBEH') & iv['NAAM'].str.contains('DOSS')].to_dict('records')\n",
    "# x[0]\n",
    "# groen        = ja\n",
    "# rood         = nee, tenzij via overerving\n",
    "# geel         = nee, tenzij met rechtgebonden werkcontext | met zwart kader: werkcontext is ingesteld\n",
    "# blauw        = nee, tenzij met standaard werkcontext | met zwart kader: werkcontext is ingesteld\n",
    "# donkerkgrijs = nooit\n",
    "# BEH: doss_noodprexemp geel value=CM\n",
    "#      doss_noodprsee   groen value=CT\n",
    "#      ond_rechten/widocarc CSSSSSF 5xblauw 1xrood\n",
    "# kijk ook bij Document. inverted=true -> alles behalve\n",
    "iv.loc[(iv['OWNER'] == '@GBEH') & iv['NAAM'].str.contains('WI_EPD')]# & iv['SPECCODE'].str.contains('WI')]"
   ]
  },
  {
   "cell_type": "code",
   "execution_count": 86,
   "id": "c3762eb8-b1d3-419b-a91e-4a69ecf42993",
   "metadata": {},
   "outputs": [],
   "source": [
    "parse(x[0]['VALUE'])"
   ]
  },
  {
   "cell_type": "code",
   "execution_count": 104,
   "id": "5a4f7c9f",
   "metadata": {},
   "outputs": [],
   "source": [
    "wcs.loc[(wcs['OwnerId']=='BEH') & wcs['SegmentClassId'].str.contains('WI')]"
   ]
  },
  {
   "cell_type": "code",
   "execution_count": 70,
   "id": "3b09dfae-1eb3-4754-91ec-c1acca58c9bd",
   "metadata": {},
   "outputs": [],
   "source": [
    "#occurring, missing = {}, set()\n",
    "#sep = '-' * 10\n",
    "#for k, elt in enumerate(type_c.to_dict('records')):\n",
    "#    value = guid_rx.sub(resolve_guid, elt['VALUE'])\n",
    "#    # matches = guid_rx.findall(value)\n",
    "#    if k < 5:\n",
    "#        print(f\"{sep}\\nvalue {k}\")\n",
    "#        tokens = tokenize(value)\n",
    "#        obj = parse(tokens)\n",
    "#        for elt in obj:\n",
    "#            print('\\t'+elt)"
   ]
  }
 ],
 "metadata": {
  "kernelspec": {
   "display_name": "Python 3 (ipykernel)",
   "language": "python",
   "name": "python3"
  },
  "language_info": {
   "codemirror_mode": {
    "name": "ipython",
    "version": 3
   },
   "file_extension": ".py",
   "mimetype": "text/x-python",
   "name": "python",
   "nbconvert_exporter": "python",
   "pygments_lexer": "ipython3",
   "version": "3.10.9"
  },
  "varInspector": {
   "cols": {
    "lenName": 16,
    "lenType": 16,
    "lenVar": 40
   },
   "kernels_config": {
    "python": {
     "delete_cmd_postfix": "",
     "delete_cmd_prefix": "del ",
     "library": "var_list.py",
     "varRefreshCmd": "print(var_dic_list())"
    },
    "r": {
     "delete_cmd_postfix": ") ",
     "delete_cmd_prefix": "rm(",
     "library": "var_list.r",
     "varRefreshCmd": "cat(var_dic_list()) "
    }
   },
   "types_to_exclude": [
    "module",
    "function",
    "builtin_function_or_method",
    "instance",
    "_Feature"
   ],
   "window_display": false
  }
 },
 "nbformat": 4,
 "nbformat_minor": 5
}