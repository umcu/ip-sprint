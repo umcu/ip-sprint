{
 "cells": [
  {
   "cell_type": "code",
   "execution_count": 1,
   "id": "d2cdf87c",
   "metadata": {},
   "outputs": [],
   "source": [
    "import pandas as pd\n",
    "from ddr import *\n",
    "pd.options.mode.copy_on_write = True"
   ]
  },
  {
   "cell_type": "code",
   "execution_count": 2,
   "id": "d84cd3d2",
   "metadata": {},
   "outputs": [],
   "source": [
    "# kolommen controleren controleren met df.columns zonder 'usecols='\n",
    "vl = pd.read_csv('vrlijst_lijstdef.csv',\n",
    "                  usecols=[0, 1, 2, 5, 8, 12, 16, 19],\n",
    "                  dtype={'VERVALLEN': 'boolean', 'DATUM': 'string'})"
   ]
  },
  {
   "cell_type": "code",
   "execution_count": 13,
   "id": "44a9090e",
   "metadata": {},
   "outputs": [
    {
     "data": {
      "text/html": [
       "<div>\n",
       "<style scoped>\n",
       "    .dataframe tbody tr th:only-of-type {\n",
       "        vertical-align: middle;\n",
       "    }\n",
       "\n",
       "    .dataframe tbody tr th {\n",
       "        vertical-align: top;\n",
       "    }\n",
       "\n",
       "    .dataframe thead th {\n",
       "        text-align: right;\n",
       "    }\n",
       "</style>\n",
       "<table border=\"1\" class=\"dataframe\">\n",
       "  <thead>\n",
       "    <tr style=\"text-align: right;\">\n",
       "      <th></th>\n",
       "      <th>LIJSTID</th>\n",
       "      <th>CATEGORIE</th>\n",
       "      <th>LIJSTNAAM</th>\n",
       "      <th>DATUM</th>\n",
       "      <th>VERVALLEN</th>\n",
       "      <th>KOPPID</th>\n",
       "      <th>VRLIJSTTYPEID</th>\n",
       "      <th>SOORTID</th>\n",
       "    </tr>\n",
       "  </thead>\n",
       "  <tbody>\n",
       "    <tr>\n",
       "      <th>128</th>\n",
       "      <td>CS00058881</td>\n",
       "      <td>ENDSEG</td>\n",
       "      <td>Entero conclusie</td>\n",
       "      <td>2021-11-08 00:00:00</td>\n",
       "      <td>True</td>\n",
       "      <td>CS00014119</td>\n",
       "      <td>NaN</td>\n",
       "      <td>C</td>\n",
       "    </tr>\n",
       "    <tr>\n",
       "      <th>172</th>\n",
       "      <td>CS00055070</td>\n",
       "      <td>REV</td>\n",
       "      <td>Huidig niveau van functioneren</td>\n",
       "      <td>2020-04-07 00:00:00</td>\n",
       "      <td>False</td>\n",
       "      <td>CS00012846</td>\n",
       "      <td>NaN</td>\n",
       "      <td>C</td>\n",
       "    </tr>\n",
       "    <tr>\n",
       "      <th>173</th>\n",
       "      <td>CS00055188</td>\n",
       "      <td>REV</td>\n",
       "      <td>Sensibiliteit</td>\n",
       "      <td>2020-04-29 00:00:00</td>\n",
       "      <td>False</td>\n",
       "      <td>CS00012883</td>\n",
       "      <td>NaN</td>\n",
       "      <td>C</td>\n",
       "    </tr>\n",
       "    <tr>\n",
       "      <th>174</th>\n",
       "      <td>CS00055186</td>\n",
       "      <td>REV</td>\n",
       "      <td>Motoriek</td>\n",
       "      <td>2020-04-29 00:00:00</td>\n",
       "      <td>False</td>\n",
       "      <td>CS00012881</td>\n",
       "      <td>NaN</td>\n",
       "      <td>C</td>\n",
       "    </tr>\n",
       "    <tr>\n",
       "      <th>175</th>\n",
       "      <td>CS00055280</td>\n",
       "      <td>AN</td>\n",
       "      <td>Cyclus</td>\n",
       "      <td>2020-05-20 00:00:00</td>\n",
       "      <td>False</td>\n",
       "      <td>CS00012911</td>\n",
       "      <td>NaN</td>\n",
       "      <td>C</td>\n",
       "    </tr>\n",
       "    <tr>\n",
       "      <th>...</th>\n",
       "      <td>...</td>\n",
       "      <td>...</td>\n",
       "      <td>...</td>\n",
       "      <td>...</td>\n",
       "      <td>...</td>\n",
       "      <td>...</td>\n",
       "      <td>...</td>\n",
       "      <td>...</td>\n",
       "    </tr>\n",
       "    <tr>\n",
       "      <th>54110</th>\n",
       "      <td>CS00062083</td>\n",
       "      <td>RTHARTS</td>\n",
       "      <td>Cardiac risk factors</td>\n",
       "      <td>2023-03-08 00:00:00</td>\n",
       "      <td>False</td>\n",
       "      <td>CS00015000</td>\n",
       "      <td>NaN</td>\n",
       "      <td>C</td>\n",
       "    </tr>\n",
       "    <tr>\n",
       "      <th>57977</th>\n",
       "      <td>CS00063251</td>\n",
       "      <td>ENDSEG</td>\n",
       "      <td>Aanlevering registraties Algemeen</td>\n",
       "      <td>2023-11-17 00:00:00</td>\n",
       "      <td>False</td>\n",
       "      <td>CS00015234</td>\n",
       "      <td>NaN</td>\n",
       "      <td>C</td>\n",
       "    </tr>\n",
       "    <tr>\n",
       "      <th>57978</th>\n",
       "      <td>CS00063250</td>\n",
       "      <td>ENDSEG</td>\n",
       "      <td>Aanlevering registraties Entero</td>\n",
       "      <td>2023-11-17 00:00:00</td>\n",
       "      <td>False</td>\n",
       "      <td>CS00015233</td>\n",
       "      <td>NaN</td>\n",
       "      <td>C</td>\n",
       "    </tr>\n",
       "    <tr>\n",
       "      <th>57992</th>\n",
       "      <td>CS00063247</td>\n",
       "      <td>ENDSEG</td>\n",
       "      <td>Aanlevering registraties ERCP</td>\n",
       "      <td>2023-11-17 00:00:00</td>\n",
       "      <td>False</td>\n",
       "      <td>CS00015230</td>\n",
       "      <td>NaN</td>\n",
       "      <td>C</td>\n",
       "    </tr>\n",
       "    <tr>\n",
       "      <th>58034</th>\n",
       "      <td>CS00063249</td>\n",
       "      <td>ENDSEG</td>\n",
       "      <td>Aanlevering registraties VCE</td>\n",
       "      <td>2023-11-17 00:00:00</td>\n",
       "      <td>False</td>\n",
       "      <td>CS00015232</td>\n",
       "      <td>NaN</td>\n",
       "      <td>C</td>\n",
       "    </tr>\n",
       "  </tbody>\n",
       "</table>\n",
       "<p>496 rows × 8 columns</p>\n",
       "</div>"
      ],
      "text/plain": [
       "          LIJSTID CATEGORIE                          LIJSTNAAM  \\\n",
       "128    CS00058881    ENDSEG                   Entero conclusie   \n",
       "172    CS00055070       REV     Huidig niveau van functioneren   \n",
       "173    CS00055188       REV                      Sensibiliteit   \n",
       "174    CS00055186       REV                           Motoriek   \n",
       "175    CS00055280        AN                             Cyclus   \n",
       "...           ...       ...                                ...   \n",
       "54110  CS00062083   RTHARTS               Cardiac risk factors   \n",
       "57977  CS00063251    ENDSEG  Aanlevering registraties Algemeen   \n",
       "57978  CS00063250    ENDSEG    Aanlevering registraties Entero   \n",
       "57992  CS00063247    ENDSEG      Aanlevering registraties ERCP   \n",
       "58034  CS00063249    ENDSEG       Aanlevering registraties VCE   \n",
       "\n",
       "                     DATUM  VERVALLEN      KOPPID VRLIJSTTYPEID SOORTID  \n",
       "128    2021-11-08 00:00:00       True  CS00014119           NaN       C  \n",
       "172    2020-04-07 00:00:00      False  CS00012846           NaN       C  \n",
       "173    2020-04-29 00:00:00      False  CS00012883           NaN       C  \n",
       "174    2020-04-29 00:00:00      False  CS00012881           NaN       C  \n",
       "175    2020-05-20 00:00:00      False  CS00012911           NaN       C  \n",
       "...                    ...        ...         ...           ...     ...  \n",
       "54110  2023-03-08 00:00:00      False  CS00015000           NaN       C  \n",
       "57977  2023-11-17 00:00:00      False  CS00015234           NaN       C  \n",
       "57978  2023-11-17 00:00:00      False  CS00015233           NaN       C  \n",
       "57992  2023-11-17 00:00:00      False  CS00015230           NaN       C  \n",
       "58034  2023-11-17 00:00:00      False  CS00015232           NaN       C  \n",
       "\n",
       "[496 rows x 8 columns]"
      ]
     },
     "execution_count": 13,
     "metadata": {},
     "output_type": "execute_result"
    }
   ],
   "source": [
    "vl.loc[vl['SOORTID'] == 'C']"
   ]
  },
  {
   "cell_type": "code",
   "execution_count": 4,
   "id": "2da64a73",
   "metadata": {
    "scrolled": true
   },
   "outputs": [],
   "source": [
    "vr = pd.read_csv('vrlijst_vragen.csv', low_memory=False,\n",
    "                usecols=[0, 1, 3, 6, 7, 8, 12, 27, 33, 39, 40],\n",
    "                dtype={'MAGLEEG': 'boolean', 'VERVALLEN': 'boolean', 'ENKELV': 'boolean',\n",
    "                       'CONTROLID': 'Int64'})"
   ]
  },
  {
   "cell_type": "code",
   "execution_count": 5,
   "id": "905ead7a",
   "metadata": {},
   "outputs": [],
   "source": [
    "vc = pd.read_csv('vrlijst_controls.csv',\n",
    "                usecols=[0, 1, 4])"
   ]
  },
  {
   "cell_type": "code",
   "execution_count": null,
   "id": "7e30f086-aa64-4738-bb86-78b19d215aa5",
   "metadata": {},
   "outputs": [],
   "source": [
    "def vraag_type(vraag):\n",
    "    descr = vc.loc[vc['CONTROLID'] == vraag.CONTROLID].to_dict('records')\n",
    "    return descr[0]['NAAM']"
   ]
  },
  {
   "cell_type": "code",
   "execution_count": 6,
   "id": "6294fc23",
   "metadata": {
    "scrolled": true
   },
   "outputs": [],
   "source": [
    "tl = pd.read_csv('vrlijst_treelay.csv',\n",
    "                 usecols=[0, 1, 2, 3, 4, 8, 9, 12, 13],\n",
    "                 dtype={'VOLGNR':'Int64', 'HERHAALBAA': 'boolean', 'ONZZANTW': 'boolean', 'NEWPAGE': 'boolean'})"
   ]
  },
  {
   "cell_type": "code",
   "execution_count": 7,
   "id": "5743a1f4",
   "metadata": {},
   "outputs": [],
   "source": [
    "start = Lijst.make_one(vl.loc[vl['LIJSTID'] == 'CS00065113'])"
   ]
  },
  {
   "cell_type": "code",
   "execution_count": 9,
   "id": "807d2bd0",
   "metadata": {
    "scrolled": true
   },
   "outputs": [],
   "source": [
    "def add_children(vlnode, distance=0):\n",
    "    tlnodes = tl.loc[tl['LIJSTID'] == vlnode.LIJSTID].copy()\n",
    "    tlnodes.sort_values(by='VOLGNR', inplace=True)\n",
    "    for node in tlnodes.to_dict('records'):\n",
    "        childid = node['CHILDID']\n",
    "        indent = '  ' * distance\n",
    "        onz = node['ONZZANTW']\n",
    "        if node['TYPE'] == 'V':\n",
    "            vraag = Vraag.make_one(vr.loc[vr['VRAAGID'] == childid])\n",
    "            vlnode.children.append(vraag)\n",
    "            print(f\"{indent}{node['VOLGNR']} V: {vraag} type={vraag_type(vraag)} verberg={onz}\")\n",
    "        elif node['TYPE'] == 'L':\n",
    "            lijst = Lijst.make_one(vl.loc[vl['LIJSTID'] == childid])\n",
    "            add_children(lijst, distance+1)\n",
    "            vlnode.children.append(lijst)\n",
    "            print(f\"{indent}{node['VOLGNR']} L: {lijst} verberg={onz}\")\n",
    "        else:\n",
    "            print(f\"{indent}onbekend type {node['TYPE']}\")"
   ]
  },
  {
   "cell_type": "code",
   "execution_count": 10,
   "id": "b305bb58",
   "metadata": {},
   "outputs": [
    {
     "name": "stdout",
     "output_type": "stream",
     "text": [
      "0 V: Reden van aanmelding MDO (CS00276754) vervallen=False type=RTF Invoer Memo verberg=False\n",
      "1 V: Datum van aanmelding (CS00276755) vervallen=False type=Datum verberg=False\n",
      "2 V: Opmerkingen bij MDO (CS00276756) vervallen=False type=Memo verberg=False\n",
      "3 V: Patiënt eerder besproken (CS00214848) vervallen=False type=Keuzeselectiegroep verberg=True\n"
     ]
    }
   ],
   "source": [
    "add_children(start)"
   ]
  }
 ],
 "metadata": {
  "kernelspec": {
   "display_name": "Python 3 (ipykernel)",
   "language": "python",
   "name": "python3"
  },
  "language_info": {
   "codemirror_mode": {
    "name": "ipython",
    "version": 3
   },
   "file_extension": ".py",
   "mimetype": "text/x-python",
   "name": "python",
   "nbconvert_exporter": "python",
   "pygments_lexer": "ipython3",
   "version": "3.10.9"
  },
  "varInspector": {
   "cols": {
    "lenName": 16,
    "lenType": 16,
    "lenVar": 40
   },
   "kernels_config": {
    "python": {
     "delete_cmd_postfix": "",
     "delete_cmd_prefix": "del ",
     "library": "var_list.py",
     "varRefreshCmd": "print(var_dic_list())"
    },
    "r": {
     "delete_cmd_postfix": ") ",
     "delete_cmd_prefix": "rm(",
     "library": "var_list.r",
     "varRefreshCmd": "cat(var_dic_list()) "
    }
   },
   "types_to_exclude": [
    "module",
    "function",
    "builtin_function_or_method",
    "instance",
    "_Feature"
   ],
   "window_display": false
  }
 },
 "nbformat": 4,
 "nbformat_minor": 5
}
