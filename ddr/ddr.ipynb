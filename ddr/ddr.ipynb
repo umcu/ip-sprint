{
 "cells": [
  {
   "cell_type": "code",
   "execution_count": 1,
   "id": "d2cdf87c",
   "metadata": {},
   "outputs": [],
   "source": [
    "import pandas as pd\n",
    "from ddr import *\n",
    "pd.options.mode.copy_on_write = True"
   ]
  },
  {
   "cell_type": "code",
   "execution_count": 2,
   "id": "d84cd3d2",
   "metadata": {},
   "outputs": [],
   "source": [
    "# kolommen controleren controleren met df.columns zonder 'usecols='\n",
    "vl = pd.read_csv('vrlijst_lijstdef.csv',\n",
    "                  usecols=[0, 1, 2, 5, 8, 12, 16, 19],\n",
    "                  dtype={'VERVALLEN': 'boolean', 'DATUM': 'string'})"
   ]
  },
  {
   "cell_type": "code",
   "execution_count": 13,
   "id": "44a9090e",
   "metadata": {},
   "outputs": [],
   "source": [
    "vl.loc[vl['SOORTID'] == 'C']"
   ]
  },
  {
   "cell_type": "code",
   "execution_count": 4,
   "id": "2da64a73",
   "metadata": {
    "scrolled": true
   },
   "outputs": [],
   "source": [
    "vr = pd.read_csv('vrlijst_vragen.csv', low_memory=False,\n",
    "                usecols=[0, 1, 3, 6, 7, 8, 12, 27, 33, 39, 40],\n",
    "                dtype={'MAGLEEG': 'boolean', 'VERVALLEN': 'boolean', 'ENKELV': 'boolean',\n",
    "                       'CONTROLID': 'Int64'})"
   ]
  },
  {
   "cell_type": "code",
   "execution_count": 5,
   "id": "905ead7a",
   "metadata": {},
   "outputs": [],
   "source": [
    "vc = pd.read_csv('vrlijst_controls.csv',\n",
    "                usecols=[0, 1, 4])"
   ]
  },
  {
   "cell_type": "code",
   "execution_count": null,
   "id": "7e30f086-aa64-4738-bb86-78b19d215aa5",
   "metadata": {},
   "outputs": [],
   "source": [
    "def vraag_type(vraag):\n",
    "    descr = vc.loc[vc['CONTROLID'] == vraag.CONTROLID].to_dict('records')\n",
    "    return descr[0]['NAAM']"
   ]
  },
  {
   "cell_type": "code",
   "execution_count": 6,
   "id": "6294fc23",
   "metadata": {
    "scrolled": true
   },
   "outputs": [],
   "source": [
    "tl = pd.read_csv('vrlijst_treelay.csv',\n",
    "                 usecols=[0, 1, 2, 3, 4, 8, 9, 12, 13],\n",
    "                 dtype={'VOLGNR':'Int64', 'HERHAALBAA': 'boolean', 'ONZZANTW': 'boolean', 'NEWPAGE': 'boolean'})"
   ]
  },
  {
   "cell_type": "code",
   "execution_count": 7,
   "id": "5743a1f4",
   "metadata": {},
   "outputs": [],
   "source": [
    "start = Lijst.make_one(vl.loc[vl['LIJSTID'] == 'CS00065113'])"
   ]
  },
  {
   "cell_type": "code",
   "execution_count": 9,
   "id": "807d2bd0",
   "metadata": {
    "scrolled": true
   },
   "outputs": [],
   "source": [
    "def add_children(vlnode, distance=0):\n",
    "    tlnodes = tl.loc[tl['LIJSTID'] == vlnode.LIJSTID].copy()\n",
    "    tlnodes.sort_values(by='VOLGNR', inplace=True)\n",
    "    for node in tlnodes.to_dict('records'):\n",
    "        childid = node['CHILDID']\n",
    "        indent = '  ' * distance\n",
    "        onz = node['ONZZANTW']\n",
    "        if node['TYPE'] == 'V':\n",
    "            vraag = Vraag.make_one(vr.loc[vr['VRAAGID'] == childid])\n",
    "            vlnode.children.append(vraag)\n",
    "            print(f\"{indent}{node['VOLGNR']} V: {vraag} type={vraag_type(vraag)} verberg={onz}\")\n",
    "        elif node['TYPE'] == 'L':\n",
    "            lijst = Lijst.make_one(vl.loc[vl['LIJSTID'] == childid])\n",
    "            add_children(lijst, distance+1)\n",
    "            vlnode.children.append(lijst)\n",
    "            print(f\"{indent}{node['VOLGNR']} L: {lijst} verberg={onz}\")\n",
    "        else:\n",
    "            print(f\"{indent}onbekend type {node['TYPE']}\")"
   ]
  },
  {
   "cell_type": "code",
   "execution_count": 10,
   "id": "b305bb58",
   "metadata": {},
   "outputs": [],
   "source": [
    "add_children(start)"
   ]
  }
 ],
 "metadata": {
  "kernelspec": {
   "display_name": "Python 3 (ipykernel)",
   "language": "python",
   "name": "python3"
  },
  "language_info": {
   "codemirror_mode": {
    "name": "ipython",
    "version": 3
   },
   "file_extension": ".py",
   "mimetype": "text/x-python",
   "name": "python",
   "nbconvert_exporter": "python",
   "pygments_lexer": "ipython3",
   "version": "3.10.9"
  },
  "varInspector": {
   "cols": {
    "lenName": 16,
    "lenType": 16,
    "lenVar": 40
   },
   "kernels_config": {
    "python": {
     "delete_cmd_postfix": "",
     "delete_cmd_prefix": "del ",
     "library": "var_list.py",
     "varRefreshCmd": "print(var_dic_list())"
    },
    "r": {
     "delete_cmd_postfix": ") ",
     "delete_cmd_prefix": "rm(",
     "library": "var_list.r",
     "varRefreshCmd": "cat(var_dic_list()) "
    }
   },
   "types_to_exclude": [
    "module",
    "function",
    "builtin_function_or_method",
    "instance",
    "_Feature"
   ],
   "window_display": false
  }
 },
 "nbformat": 4,
 "nbformat_minor": 5
}