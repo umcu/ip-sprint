{
 "cells": [
  {
   "cell_type": "code",
   "execution_count": 18,
   "id": "d2cdf87c",
   "metadata": {},
   "outputs": [],
   "source": [
    "import pandas as pd\n",
    "from ddr import *\n",
    "pd.options.mode.copy_on_write = True"
   ]
  },
  {
   "cell_type": "code",
   "execution_count": 83,
   "id": "d84cd3d2",
   "metadata": {},
   "outputs": [],
   "source": [
    "# kolommen controleren controleren met df.columns zonder 'usecols='\n",
    "vl = pd.read_csv('vrlijst_lijstdef.csv',\n",
    "                  usecols=[0, 1, 2, 5, 8, 12, 16, 19],\n",
    "                  dtype={'VERVALLEN': 'boolean', 'DATUM': 'string'})"
   ]
  },
  {
   "cell_type": "code",
   "execution_count": 86,
   "id": "44a9090e",
   "metadata": {},
   "outputs": [
    {
     "data": {
      "text/html": [
       "<div>\n",
       "<style scoped>\n",
       "    .dataframe tbody tr th:only-of-type {\n",
       "        vertical-align: middle;\n",
       "    }\n",
       "\n",
       "    .dataframe tbody tr th {\n",
       "        vertical-align: top;\n",
       "    }\n",
       "\n",
       "    .dataframe thead th {\n",
       "        text-align: right;\n",
       "    }\n",
       "</style>\n",
       "<table border=\"1\" class=\"dataframe\">\n",
       "  <thead>\n",
       "    <tr style=\"text-align: right;\">\n",
       "      <th></th>\n",
       "      <th>LIJSTID</th>\n",
       "      <th>CATEGORIE</th>\n",
       "      <th>LIJSTNAAM</th>\n",
       "      <th>DATUM</th>\n",
       "      <th>VERVALLEN</th>\n",
       "      <th>KOPPID</th>\n",
       "      <th>VRLIJSTTYPEID</th>\n",
       "      <th>SOORTID</th>\n",
       "    </tr>\n",
       "  </thead>\n",
       "  <tbody>\n",
       "    <tr>\n",
       "      <th>4102</th>\n",
       "      <td>CS00065063</td>\n",
       "      <td>CAR</td>\n",
       "      <td>PROM: Cardiologie Follow up</td>\n",
       "      <td>2025-02-18 00:00:00</td>\n",
       "      <td>False</td>\n",
       "      <td>CS00015801</td>\n",
       "      <td>NaN</td>\n",
       "      <td>S</td>\n",
       "    </tr>\n",
       "    <tr>\n",
       "      <th>4103</th>\n",
       "      <td>CS00065070</td>\n",
       "      <td>CAR</td>\n",
       "      <td>PROM: Cardiologie (PCI) - Electieve patient Ba...</td>\n",
       "      <td>2025-02-18 00:00:00</td>\n",
       "      <td>False</td>\n",
       "      <td>CS00015808</td>\n",
       "      <td>NaN</td>\n",
       "      <td>S</td>\n",
       "    </tr>\n",
       "    <tr>\n",
       "      <th>32418</th>\n",
       "      <td>CS00065047</td>\n",
       "      <td>SCORE</td>\n",
       "      <td>Seattle Angina Questionnaire (SAQ-7)</td>\n",
       "      <td>2025-02-05 00:00:00</td>\n",
       "      <td>False</td>\n",
       "      <td>CS00015789</td>\n",
       "      <td>NaN</td>\n",
       "      <td>S</td>\n",
       "    </tr>\n",
       "    <tr>\n",
       "      <th>33702</th>\n",
       "      <td>1000019817</td>\n",
       "      <td>LABKCL</td>\n",
       "      <td>Studie: UNICIT SubjectNr</td>\n",
       "      <td>2025-03-18 00:00:00</td>\n",
       "      <td>False</td>\n",
       "      <td>2000004508</td>\n",
       "      <td>NaN</td>\n",
       "      <td>S</td>\n",
       "    </tr>\n",
       "    <tr>\n",
       "      <th>41280</th>\n",
       "      <td>1000019820</td>\n",
       "      <td>HEMA</td>\n",
       "      <td>Conditioneringsschema Plan</td>\n",
       "      <td>2025-03-20 00:00:00</td>\n",
       "      <td>False</td>\n",
       "      <td>2000004509</td>\n",
       "      <td>NaN</td>\n",
       "      <td>S</td>\n",
       "    </tr>\n",
       "    <tr>\n",
       "      <th>...</th>\n",
       "      <td>...</td>\n",
       "      <td>...</td>\n",
       "      <td>...</td>\n",
       "      <td>...</td>\n",
       "      <td>...</td>\n",
       "      <td>...</td>\n",
       "      <td>...</td>\n",
       "      <td>...</td>\n",
       "    </tr>\n",
       "    <tr>\n",
       "      <th>61214</th>\n",
       "      <td>CS00065113</td>\n",
       "      <td>MDO</td>\n",
       "      <td>MDO Aanmelding</td>\n",
       "      <td>2025-02-19 00:00:00</td>\n",
       "      <td>False</td>\n",
       "      <td>NaN</td>\n",
       "      <td>NaN</td>\n",
       "      <td>L</td>\n",
       "    </tr>\n",
       "    <tr>\n",
       "      <th>61215</th>\n",
       "      <td>CS00065117</td>\n",
       "      <td>SCORE</td>\n",
       "      <td>RIS Inclusiecriteria 6MWT</td>\n",
       "      <td>2025-02-19 00:00:00</td>\n",
       "      <td>False</td>\n",
       "      <td>NaN</td>\n",
       "      <td>NaN</td>\n",
       "      <td>NaN</td>\n",
       "    </tr>\n",
       "    <tr>\n",
       "      <th>61216</th>\n",
       "      <td>1000019848</td>\n",
       "      <td>MDO</td>\n",
       "      <td>Actuele status patient</td>\n",
       "      <td>2025-03-25 00:00:00</td>\n",
       "      <td>False</td>\n",
       "      <td>NaN</td>\n",
       "      <td>NaN</td>\n",
       "      <td>NaN</td>\n",
       "    </tr>\n",
       "    <tr>\n",
       "      <th>61217</th>\n",
       "      <td>1000019850</td>\n",
       "      <td>MDO</td>\n",
       "      <td>Toelichting actuele status patiënt</td>\n",
       "      <td>2025-03-25 00:00:00</td>\n",
       "      <td>False</td>\n",
       "      <td>NaN</td>\n",
       "      <td>NaN</td>\n",
       "      <td>NaN</td>\n",
       "    </tr>\n",
       "    <tr>\n",
       "      <th>61218</th>\n",
       "      <td>1000019861</td>\n",
       "      <td>MDO</td>\n",
       "      <td>DatamodelIDK</td>\n",
       "      <td>2025-03-25 00:00:00</td>\n",
       "      <td>False</td>\n",
       "      <td>NaN</td>\n",
       "      <td>NaN</td>\n",
       "      <td>M</td>\n",
       "    </tr>\n",
       "  </tbody>\n",
       "</table>\n",
       "<p>191 rows × 8 columns</p>\n",
       "</div>"
      ],
      "text/plain": [
       "          LIJSTID CATEGORIE  \\\n",
       "4102   CS00065063       CAR   \n",
       "4103   CS00065070       CAR   \n",
       "32418  CS00065047     SCORE   \n",
       "33702  1000019817    LABKCL   \n",
       "41280  1000019820      HEMA   \n",
       "...           ...       ...   \n",
       "61214  CS00065113       MDO   \n",
       "61215  CS00065117     SCORE   \n",
       "61216  1000019848       MDO   \n",
       "61217  1000019850       MDO   \n",
       "61218  1000019861       MDO   \n",
       "\n",
       "                                               LIJSTNAAM                DATUM  \\\n",
       "4102                         PROM: Cardiologie Follow up  2025-02-18 00:00:00   \n",
       "4103   PROM: Cardiologie (PCI) - Electieve patient Ba...  2025-02-18 00:00:00   \n",
       "32418               Seattle Angina Questionnaire (SAQ-7)  2025-02-05 00:00:00   \n",
       "33702                           Studie: UNICIT SubjectNr  2025-03-18 00:00:00   \n",
       "41280                         Conditioneringsschema Plan  2025-03-20 00:00:00   \n",
       "...                                                  ...                  ...   \n",
       "61214                                     MDO Aanmelding  2025-02-19 00:00:00   \n",
       "61215                          RIS Inclusiecriteria 6MWT  2025-02-19 00:00:00   \n",
       "61216                             Actuele status patient  2025-03-25 00:00:00   \n",
       "61217                 Toelichting actuele status patiënt  2025-03-25 00:00:00   \n",
       "61218                                       DatamodelIDK  2025-03-25 00:00:00   \n",
       "\n",
       "       VERVALLEN      KOPPID VRLIJSTTYPEID SOORTID  \n",
       "4102       False  CS00015801           NaN       S  \n",
       "4103       False  CS00015808           NaN       S  \n",
       "32418      False  CS00015789           NaN       S  \n",
       "33702      False  2000004508           NaN       S  \n",
       "41280      False  2000004509           NaN       S  \n",
       "...          ...         ...           ...     ...  \n",
       "61214      False         NaN           NaN       L  \n",
       "61215      False         NaN           NaN     NaN  \n",
       "61216      False         NaN           NaN     NaN  \n",
       "61217      False         NaN           NaN     NaN  \n",
       "61218      False         NaN           NaN       M  \n",
       "\n",
       "[191 rows x 8 columns]"
      ]
     },
     "execution_count": 86,
     "metadata": {},
     "output_type": "execute_result"
    }
   ],
   "source": [
    "vl.loc[vl['DATUM'].str.contains('2025')]"
   ]
  },
  {
   "cell_type": "code",
   "execution_count": 28,
   "id": "2da64a73",
   "metadata": {
    "scrolled": true
   },
   "outputs": [],
   "source": [
    "vr = pd.read_csv('vrlijst_vragen.csv', low_memory=False,\n",
    "                usecols=[0, 1, 3, 6, 7, 8, 12, 27, 33, 39, 40],\n",
    "                dtype={'MAGLEEG': 'boolean', 'VERVALLEN': 'boolean', 'ENKELV': 'boolean',\n",
    "                       'CONTROLID': 'Int64'})"
   ]
  },
  {
   "cell_type": "code",
   "execution_count": 66,
   "id": "905ead7a",
   "metadata": {},
   "outputs": [],
   "source": [
    "vc = pd.read_csv('vrlijst_controls.csv',\n",
    "                usecols=[0, 1, 4])"
   ]
  },
  {
   "cell_type": "code",
   "execution_count": 61,
   "id": "6294fc23",
   "metadata": {
    "scrolled": true
   },
   "outputs": [],
   "source": [
    "tl = pd.read_csv('vrlijst_treelay.csv',\n",
    "                 usecols=[0, 1, 2, 3, 4, 8, 9, 12, 13],\n",
    "                 dtype={'VOLGNR':'Int64', 'HERHAALBAA': 'boolean', 'ONZZANTW': 'boolean', 'NEWPAGE': 'boolean'})"
   ]
  },
  {
   "cell_type": "code",
   "execution_count": 89,
   "id": "5743a1f4",
   "metadata": {},
   "outputs": [],
   "source": [
    "start = Lijst.make_one(vl.loc[vl['LIJSTID'] == 'CS00065113'])"
   ]
  },
  {
   "cell_type": "code",
   "execution_count": 77,
   "id": "126594f4",
   "metadata": {},
   "outputs": [],
   "source": [
    "def vraag_type(v):\n",
    "    descr = vc.loc[vc['CONTROLID']==v.CONTROLID].to_dict('records')\n",
    "    return descr[0]['NAAM']"
   ]
  },
  {
   "cell_type": "code",
   "execution_count": 75,
   "id": "807d2bd0",
   "metadata": {
    "scrolled": true
   },
   "outputs": [],
   "source": [
    "def add_children(vlnode, distance=0):\n",
    "    tlnodes = tl.loc[tl['LIJSTID'] == vlnode.LIJSTID].copy()\n",
    "    tlnodes.sort_values(by='VOLGNR', inplace=True)\n",
    "    for node in tlnodes.to_dict('records'):\n",
    "        childid = node['CHILDID']\n",
    "        indent = '  ' * distance\n",
    "        onz = node['ONZZANTW']\n",
    "        if node['TYPE'] == 'V':\n",
    "            vraag = Vraag.make_one(vr.loc[vr['VRAAGID'] == childid])\n",
    "            vlnode.children.append(vraag)\n",
    "            print(f\"{indent}{node['VOLGNR']} V: {vraag} type={vraag_type(vraag)} verberg={onz}\")\n",
    "        elif node['TYPE'] == 'L':\n",
    "            lijst = Lijst.make_one(vl.loc[vl['LIJSTID'] == childid])\n",
    "            add_children(lijst, distance+1)\n",
    "            vlnode.children.append(lijst)\n",
    "            print(f\"{indent}{node['VOLGNR']} L: {lijst} verberg={onz}\")\n",
    "        else:\n",
    "            print(f\"{indent}onbekend type {node['TYPE']}\")"
   ]
  },
  {
   "cell_type": "code",
   "execution_count": 90,
   "id": "b305bb58",
   "metadata": {},
   "outputs": [
    {
     "name": "stdout",
     "output_type": "stream",
     "text": [
      "0 V: Reden van aanmelding MDO (CS00276754 vervallen=False) type=RTF Invoer Memo verberg=False\n",
      "1 V: Datum van aanmelding (CS00276755 vervallen=False) type=Datum verberg=False\n",
      "2 V: Opmerkingen bij MDO (CS00276756 vervallen=False) type=Memo verberg=False\n",
      "3 V: Patiënt eerder besproken (CS00214848 vervallen=False) type=Keuzeselectiegroep verberg=True\n"
     ]
    }
   ],
   "source": [
    "add_children(start)"
   ]
  }
 ],
 "metadata": {
  "kernelspec": {
   "display_name": "develop",
   "language": "python",
   "name": "develop"
  },
  "language_info": {
   "codemirror_mode": {
    "name": "ipython",
    "version": 3
   },
   "file_extension": ".py",
   "mimetype": "text/x-python",
   "name": "python",
   "nbconvert_exporter": "python",
   "pygments_lexer": "ipython3",
   "version": "3.10.12"
  },
  "varInspector": {
   "cols": {
    "lenName": 16,
    "lenType": 16,
    "lenVar": 40
   },
   "kernels_config": {
    "python": {
     "delete_cmd_postfix": "",
     "delete_cmd_prefix": "del ",
     "library": "var_list.py",
     "varRefreshCmd": "print(var_dic_list())"
    },
    "r": {
     "delete_cmd_postfix": ") ",
     "delete_cmd_prefix": "rm(",
     "library": "var_list.r",
     "varRefreshCmd": "cat(var_dic_list()) "
    }
   },
   "types_to_exclude": [
    "module",
    "function",
    "builtin_function_or_method",
    "instance",
    "_Feature"
   ],
   "window_display": false
  }
 },
 "nbformat": 4,
 "nbformat_minor": 5
}
